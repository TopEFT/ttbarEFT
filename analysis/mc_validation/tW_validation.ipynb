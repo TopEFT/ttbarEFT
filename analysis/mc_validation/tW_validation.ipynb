{
 "cells": [
  {
   "cell_type": "code",
   "execution_count": 3,
   "id": "88003616-4812-49c3-8e24-5a53f6610ba3",
   "metadata": {},
   "outputs": [],
   "source": [
    "import numpy as np\n",
    "import awkward as ak\n",
    "import uproot\n",
    "\n",
    "import hist\n",
    "from topcoffea.modules.histEFT import HistEFT\n",
    "import topcoffea.modules.utils as utils\n",
    "\n",
    "import mplhep as hep\n",
    "import matplotlib.pyplot as plt\n",
    "import matplotlib as mpl\n",
    "import os"
   ]
  },
  {
   "cell_type": "code",
   "execution_count": 4,
   "id": "f0c3ec2f-504f-40bb-9dc1-fae7ad46a2e4",
   "metadata": {},
   "outputs": [],
   "source": [
    "def namestr(obj, namespace):\n",
    "    return [name for name in namespace if namespace[name] is obj]"
   ]
  },
  {
   "cell_type": "code",
   "execution_count": 5,
   "id": "40c2f69d-bf95-490f-9760-fe738a4ab1c2",
   "metadata": {},
   "outputs": [],
   "source": [
    "hep.style.use(\"CMS\")\n",
    "params = {'axes.labelsize': 20,\n",
    "          'axes.titlesize': 20,\n",
    "          'legend.fontsize':20, \n",
    "          'lines.markersize':5}\n",
    "plt.rcParams.update(params)\n",
    "\n",
    "cmap = mpl.colormaps[\"tab10\"]  # type: matplotlib.colors.ListedColormap\n",
    "colors = cmap.colors  # type: list"
   ]
  },
  {
   "cell_type": "code",
   "execution_count": 6,
   "id": "458c630c-f87f-45d0-8363-90325615e4c3",
   "metadata": {},
   "outputs": [
    {
     "name": "stdout",
     "output_type": "stream",
     "text": [
      "['cleQt1Re33', 'cleQt1Re11', 'cleQt3Re22', 'cleQt1Re22', 'cQl333', 'cQl322', 'cleQt3Re33', 'cQl311', 'ctGRe', 'ctGIm', 'cleQt3Re11', 'cHQ3', 'ctWRe', 'cbWRe', 'cHtbRe']\n"
     ]
    }
   ],
   "source": [
    "wc_lst = utils.get_list_of_wc_names(\"/cms/cephfs/data/store/user/hnelson2/mc/NanoGen/tWLO_SMEFTsimtop/NanoGen_tWLO_rwgt1/nanoGen_376.root\")\n",
    "print(wc_lst)"
   ]
  },
  {
   "cell_type": "markdown",
   "id": "c6fac880-7d7c-41ec-8d42-14ce63474d64",
   "metadata": {},
   "source": [
    "# Event Weight Plots"
   ]
  },
  {
   "cell_type": "code",
   "execution_count": 7,
   "id": "10932b44-9045-4e3c-aaa3-c1995aeadad3",
   "metadata": {},
   "outputs": [],
   "source": [
    "# utils.get_hist_from_pkl(\"\", allow_empty=False)\n",
    "\n",
    "tWLO_stpt1_weights = utils.get_hist_from_pkl(\"/users/hnelson2/afs/ttbarEFT/analysis/mc_validation/tWLO_stpt1_weights.pkl.gz\", allow_empty=False)\n",
    "tWLO_stpt2_weights = utils.get_hist_from_pkl(\"/users/hnelson2/afs/ttbarEFT/analysis/mc_validation/tWLO_stpt2_weights.pkl.gz\", allow_empty=False)"
   ]
  },
  {
   "cell_type": "code",
   "execution_count": 8,
   "id": "d32bb98a-9968-4685-bc16-dcd73b438e71",
   "metadata": {},
   "outputs": [
    {
     "name": "stdout",
     "output_type": "stream",
     "text": [
      "plot saved to /users/hnelson2/afs/ttbarEFT/analysis/mc_validation/tW_plots/event_weights/tWLO_stpt1_event_weights.png\n",
      "plot saved to /users/hnelson2/afs/ttbarEFT/analysis/mc_validation/tW_plots/event_weights/tWLO_stpt2_event_weights.png\n"
     ]
    }
   ],
   "source": [
    "outpath = \"/users/hnelson2/afs/ttbarEFT/analysis/mc_validation/tW_plots/event_weights\"\n",
    "\n",
    "weight_plots = {\"tWLO_stpt1_event_weights\":tWLO_stpt1_weights, \"tWLO_stpt2_event_weights\":tWLO_stpt2_weights}\n",
    "\n",
    "for hists in weight_plots: \n",
    "    fig, ax = plt.subplots()\n",
    "    ax.set_prop_cycle(color=colors)\n",
    "    for h in weight_plots[hists]:\n",
    "        hep.histplot(weight_plots[hists][h], ax=ax, stack=False, yerr=True, linewidth=2, label=h[:-4][8:])\n",
    "    ax.set_xlabel(\"log(event weight)\")\n",
    "    ax.set_ylabel(\"Counts\")\n",
    "    ax.set_xlim([-2.5,0.01])\n",
    "    ax.legend(loc='upper right')\n",
    "    outname=os.path.join(outpath, f\"{hists}.png\")\n",
    "    fig.savefig(outname)\n",
    "    print(f'plot saved to {outname}')\n",
    "    plt.close(fig)"
   ]
  },
  {
   "cell_type": "markdown",
   "id": "6679b2bf-bac0-4261-b678-7ff40e9f3eda",
   "metadata": {},
   "source": [
    "# Kinematic Plots with Uncertainties"
   ]
  },
  {
   "cell_type": "code",
   "execution_count": 9,
   "id": "70633414-d039-4009-94c1-d1271789b07d",
   "metadata": {},
   "outputs": [],
   "source": [
    "def get_ratio_uncertainty(num_hist, denom_hist):\n",
    "    xvals = num_hist.axes.centers[0]\n",
    "    yvals_num = num_hist.values()\n",
    "    yvals_denom = denom_hist.values()\n",
    "    sigma_num = np.sqrt(num_hist.variances())\n",
    "    sigma_denom = np.sqrt(denom_hist.variances())\n",
    "\n",
    "    ratio = np.divide(yvals_num, yvals_denom)\n",
    "\n",
    "    # calculation for error propagation for ratio = yavls_num/yvals_denom\n",
    "    # generally, z=x/y; sigma_z = abs(z)sqrt((sigma_x/x)^2+(sigma_y/y)^2)\n",
    "    sigma_y = np.multiply(np.abs(ratio), np.sqrt(np.add(np.square(np.divide(sigma_num, yvals_num)), np.square(np.divide(sigma_denom, yvals_denom)))))\n",
    "\n",
    "    return sigma_y\n",
    "\n",
    "def get_ratio_points(hist1, histSM):\n",
    "    num = hist1.values()\n",
    "    centers = hist1.axes.centers[0]\n",
    "    denomSM = histSM.values()\n",
    "    ratio = np.divide(num, denomSM)\n",
    "\n",
    "    return centers, ratio\n",
    "\n",
    "def make_plot_with_ratio(h_num, h_denom, label_num, label_denom, xlabel, title):\n",
    "    ## get ratios and uncertainties\n",
    "    centers, ratio = get_ratio_points(h_num, h_denom)\n",
    "    uncert = get_ratio_uncertainty(h_num, h_denom)\n",
    "\n",
    "    ## Initialize figure and axes\n",
    "    # fig, ax = plt.subplots()\n",
    "    fig, (ax, rax) = plt.subplots(\n",
    "        nrows=2,\n",
    "        ncols=1,\n",
    "        figsize=(10,12),\n",
    "        gridspec_kw={\"height_ratios\": (3, 1)},\n",
    "        sharex=True\n",
    "    )\n",
    "    fig.subplots_adjust(hspace=.1)\n",
    "\n",
    "    ## Plot histograms and ratio plot\n",
    "    hep.histplot(h_num, ax=ax, stack=False, yerr=True, linewidth=2, label=label_num)\n",
    "    hep.histplot(h_denom, ax=ax, stack=False, yerr=True, linewidth=2, label=label_denom)\n",
    "    rax.scatter(centers, ratio)\n",
    "    rax.errorbar(centers, ratio, xerr = None, yerr = uncert, capsize=5, ls='none')\n",
    "\n",
    "    ## Formatting\n",
    "    ax.legend(loc = 'upper right', fontsize = 'small')\n",
    "    ax.set_ylabel(\"Events\", fontsize='medium')\n",
    "    ax.set_xlabel(\"\")\n",
    "    rax.set_ylabel(\"Ratio\", fontsize='medium')\n",
    "    rax.set_xlabel(xlabel, fontsize=\"medium\")\n",
    "    rax.set_ylim([0, 2])\n",
    "    rax.axhline(y=1.0, color='gray', linestyle='--')\n",
    "    # rax.grid(axis='y')\n",
    "    plt.figtext(0.13, 0.9, title, fontsize='small')\n",
    "\n",
    "    return fig, ax, rax"
   ]
  },
  {
   "cell_type": "code",
   "execution_count": 10,
   "id": "2e6cd4f0-8826-4c3f-8950-839f9f2a6be7",
   "metadata": {},
   "outputs": [
    {
     "name": "stdout",
     "output_type": "stream",
     "text": [
      "\n",
      " tWtop_kin.pkl.gz\n",
      "    njets:WeightedSum(value=0.92038, variance=2.11741e-05)\n",
      "    nleps:WeightedSum(value=0.92038, variance=2.11741e-05)\n",
      "    ntops:WeightedSum(value=0.92038, variance=2.11741e-05)\n",
      "    mll:WeightedSum(value=0.919922, variance=2.11615e-05)\n",
      "    dr_leps:WeightedSum(value=0.92038, variance=2.11741e-05)\n",
      "    l0pt:WeightedSum(value=0.91818, variance=2.11174e-05)\n",
      "    top_pt:WeightedSum(value=0.919694, variance=2.11562e-05)\n",
      "    mt2:WeightedSum(value=0.920357, variance=2.11735e-05)\n",
      "\n",
      " tWantitop_kin.pkl.gz\n",
      "    njets:WeightedSum(value=0.924623, variance=2.32421e-05)\n",
      "    nleps:WeightedSum(value=0.924623, variance=2.32421e-05)\n",
      "    ntops:WeightedSum(value=0.924623, variance=2.32421e-05)\n",
      "    mll:WeightedSum(value=0.924273, variance=2.32321e-05)\n",
      "    dr_leps:WeightedSum(value=0.924623, variance=2.32421e-05)\n",
      "    l0pt:WeightedSum(value=0.922496, variance=2.31876e-05)\n",
      "    top_pt:WeightedSum(value=0.923898, variance=2.3224e-05)\n",
      "    mt2:WeightedSum(value=0.924623, variance=2.32421e-05)\n"
     ]
    }
   ],
   "source": [
    "## do this when the normalization is just xsec/sow to find what constant is needed to normalize all hists in this sample to 1.0\n",
    "tWLO_stpt1_kin = utils.get_hist_from_pkl(\"/users/hnelson2/afs/ttbarEFT/analysis/mc_validation/tWLO_stpt1_kin.pkl.gz\", allow_empty=False)\n",
    "tWLO_stpt2_kin = utils.get_hist_from_pkl(\"/users/hnelson2/afs/ttbarEFT/analysis/mc_validation/tWLO_stpt2_kin.pkl.gz\", allow_empty=False)\n",
    "tWtop_kin = utils.get_hist_from_pkl(\"/users/hnelson2/afs/ttbarEFT/analysis/mc_validation/tWtop_powheg_kin.pkl.gz\", allow_empty=False)\n",
    "tWantitop_kin = utils.get_hist_from_pkl(\"/users/hnelson2/afs/ttbarEFT/analysis/mc_validation/tWantitop_powheg_kin.pkl.gz\", allow_empty=False)\n",
    "\n",
    "# pkl_files = [tWLO_stpt1_kin, tWLO_stpt2_kin, tWtop_kin, tWantitop_kin]\n",
    "pkl_files = [tWtop_kin, tWantitop_kin]\n",
    "for hists in pkl_files: \n",
    "    print(f\"\\n {namestr(hists, globals())[1]}.pkl.gz\")\n",
    "    for h in hists:\n",
    "        print(f\"    {h}:{hists[h].sum()}\")"
   ]
  },
  {
   "cell_type": "code",
   "execution_count": 11,
   "id": "9f10a63b-7d60-4407-bd4d-6d9b202c03a2",
   "metadata": {},
   "outputs": [],
   "source": [
    "tWtop = utils.get_hist_from_pkl(\"/users/hnelson2/afs/ttbarEFT/analysis/mc_validation/tWtop_powheg_kin_norm.pkl.gz\", allow_empty=False)\n",
    "tWantitop = utils.get_hist_from_pkl(\"/users/hnelson2/afs/ttbarEFT/analysis/mc_validation/tWantitop_powheg_kin_norm.pkl.gz\", allow_empty=False)\n",
    "tWLO_stpt1 = utils.get_hist_from_pkl(\"/users/hnelson2/afs/ttbarEFT/analysis/mc_validation/tWLO_stpt1_kin_norm.pkl.gz\", allow_empty=False)\n",
    "tWLO_stpt2 = utils.get_hist_from_pkl(\"/users/hnelson2/afs/ttbarEFT/analysis/mc_validation/tWLO_stpt2_kin_norm.pkl.gz\", allow_empty=False)"
   ]
  },
  {
   "cell_type": "code",
   "execution_count": 12,
   "id": "1b424ac1-9e8a-4e29-b60f-e6beddcf7756",
   "metadata": {},
   "outputs": [
    {
     "name": "stderr",
     "output_type": "stream",
     "text": [
      "/tmp/ipykernel_3403648/2819500801.py:20: RuntimeWarning: invalid value encountered in divide\n",
      "  ratio = np.divide(num, denomSM)\n",
      "/tmp/ipykernel_3403648/2819500801.py:8: RuntimeWarning: invalid value encountered in divide\n",
      "  ratio = np.divide(yvals_num, yvals_denom)\n",
      "/tmp/ipykernel_3403648/2819500801.py:12: RuntimeWarning: invalid value encountered in divide\n",
      "  sigma_y = np.multiply(np.abs(ratio), np.sqrt(np.add(np.square(np.divide(sigma_num, yvals_num)), np.square(np.divide(sigma_denom, yvals_denom)))))\n"
     ]
    },
    {
     "name": "stdout",
     "output_type": "stream",
     "text": [
      "plot saved to /users/hnelson2/afs/ttbarEFT/analysis/mc_validation/tW_plots/kinematics/tWLO_stpt1/njets.png\n",
      "plot saved to /users/hnelson2/afs/ttbarEFT/analysis/mc_validation/tW_plots/kinematics/tWLO_stpt1/nleps.png\n"
     ]
    },
    {
     "name": "stderr",
     "output_type": "stream",
     "text": [
      "/tmp/ipykernel_3403648/2819500801.py:20: RuntimeWarning: invalid value encountered in divide\n",
      "  ratio = np.divide(num, denomSM)\n",
      "/tmp/ipykernel_3403648/2819500801.py:8: RuntimeWarning: invalid value encountered in divide\n",
      "  ratio = np.divide(yvals_num, yvals_denom)\n",
      "/tmp/ipykernel_3403648/2819500801.py:12: RuntimeWarning: invalid value encountered in divide\n",
      "  sigma_y = np.multiply(np.abs(ratio), np.sqrt(np.add(np.square(np.divide(sigma_num, yvals_num)), np.square(np.divide(sigma_denom, yvals_denom)))))\n",
      "/tmp/ipykernel_3403648/2819500801.py:20: RuntimeWarning: invalid value encountered in divide\n",
      "  ratio = np.divide(num, denomSM)\n",
      "/tmp/ipykernel_3403648/2819500801.py:8: RuntimeWarning: invalid value encountered in divide\n",
      "  ratio = np.divide(yvals_num, yvals_denom)\n",
      "/tmp/ipykernel_3403648/2819500801.py:12: RuntimeWarning: invalid value encountered in divide\n",
      "  sigma_y = np.multiply(np.abs(ratio), np.sqrt(np.add(np.square(np.divide(sigma_num, yvals_num)), np.square(np.divide(sigma_denom, yvals_denom)))))\n"
     ]
    },
    {
     "name": "stdout",
     "output_type": "stream",
     "text": [
      "plot saved to /users/hnelson2/afs/ttbarEFT/analysis/mc_validation/tW_plots/kinematics/tWLO_stpt1/ntops.png\n",
      "plot saved to /users/hnelson2/afs/ttbarEFT/analysis/mc_validation/tW_plots/kinematics/tWLO_stpt1/mll.png\n"
     ]
    },
    {
     "name": "stderr",
     "output_type": "stream",
     "text": [
      "/tmp/ipykernel_3403648/2819500801.py:20: RuntimeWarning: invalid value encountered in divide\n",
      "  ratio = np.divide(num, denomSM)\n",
      "/tmp/ipykernel_3403648/2819500801.py:8: RuntimeWarning: invalid value encountered in divide\n",
      "  ratio = np.divide(yvals_num, yvals_denom)\n",
      "/tmp/ipykernel_3403648/2819500801.py:12: RuntimeWarning: invalid value encountered in divide\n",
      "  sigma_y = np.multiply(np.abs(ratio), np.sqrt(np.add(np.square(np.divide(sigma_num, yvals_num)), np.square(np.divide(sigma_denom, yvals_denom)))))\n",
      "/tmp/ipykernel_3403648/2819500801.py:20: RuntimeWarning: invalid value encountered in divide\n",
      "  ratio = np.divide(num, denomSM)\n",
      "/tmp/ipykernel_3403648/2819500801.py:8: RuntimeWarning: invalid value encountered in divide\n",
      "  ratio = np.divide(yvals_num, yvals_denom)\n",
      "/tmp/ipykernel_3403648/2819500801.py:12: RuntimeWarning: invalid value encountered in divide\n",
      "  sigma_y = np.multiply(np.abs(ratio), np.sqrt(np.add(np.square(np.divide(sigma_num, yvals_num)), np.square(np.divide(sigma_denom, yvals_denom)))))\n"
     ]
    },
    {
     "name": "stdout",
     "output_type": "stream",
     "text": [
      "plot saved to /users/hnelson2/afs/ttbarEFT/analysis/mc_validation/tW_plots/kinematics/tWLO_stpt1/dr_leps.png\n",
      "plot saved to /users/hnelson2/afs/ttbarEFT/analysis/mc_validation/tW_plots/kinematics/tWLO_stpt1/l0pt.png\n",
      "plot saved to /users/hnelson2/afs/ttbarEFT/analysis/mc_validation/tW_plots/kinematics/tWLO_stpt1/top_pt.png\n",
      "plot saved to /users/hnelson2/afs/ttbarEFT/analysis/mc_validation/tW_plots/kinematics/tWLO_stpt1/mt2.png\n",
      "plot saved to /users/hnelson2/afs/ttbarEFT/analysis/mc_validation/tW_plots/kinematics/tWLO_stpt1/mt2.png\n"
     ]
    }
   ],
   "source": [
    "#### Make plots for tWLO_stpt1 sample \n",
    "outpath = \"/users/hnelson2/afs/ttbarEFT/analysis/mc_validation/tW_plots/kinematics/tWLO_stpt1/\"\n",
    "for name in tWtop: \n",
    "    hpowheg = tWtop[name]+tWantitop[name]\n",
    "    hEFT = tWLO_stpt1[name]\n",
    "    fig, ax, rax = make_plot_with_ratio(hEFT, hpowheg, \"tW_EFT(stpt1)\", \"tW_powheg\", name, \"Reweighted to SM, normalized to 1.0\")\n",
    "    outname = os.path.join(outpath, f\"{name}.png\")    \n",
    "    fig.savefig(outname)\n",
    "    print(f'plot saved to {outname}')\n",
    "    plt.close(fig)\n",
    "\n",
    "# make mt2 plot with the right bounds for SM reweight point \n",
    "name='mt2'\n",
    "hpowheg = tWtop[name]+tWantitop[name]\n",
    "hEFT = tWLO_stpt1[name]\n",
    "fig, ax, rax = make_plot_with_ratio(hEFT, hpowheg, \"tW_EFT(stpt1)\", \"tW_powheg\", name, \"Reweighted to SM, normalized to 1.0\")\n",
    "ax.set_xlim([0,125])\n",
    "outname = os.path.join(outpath, f\"{name}.png\")    \n",
    "fig.savefig(outname)\n",
    "print(f'plot saved to {outname}')\n",
    "plt.close(fig)"
   ]
  },
  {
   "cell_type": "code",
   "execution_count": 13,
   "id": "07f66fc0-d1cd-48ed-a083-e9ff0fc46e94",
   "metadata": {},
   "outputs": [
    {
     "name": "stdout",
     "output_type": "stream",
     "text": [
      "plot saved to /users/hnelson2/afs/ttbarEFT/analysis/mc_validation/tW_plots/kinematics/tWLO_stpt2/njets.png\n"
     ]
    },
    {
     "name": "stderr",
     "output_type": "stream",
     "text": [
      "/tmp/ipykernel_3403648/2819500801.py:20: RuntimeWarning: invalid value encountered in divide\n",
      "  ratio = np.divide(num, denomSM)\n",
      "/tmp/ipykernel_3403648/2819500801.py:8: RuntimeWarning: invalid value encountered in divide\n",
      "  ratio = np.divide(yvals_num, yvals_denom)\n",
      "/tmp/ipykernel_3403648/2819500801.py:12: RuntimeWarning: invalid value encountered in divide\n",
      "  sigma_y = np.multiply(np.abs(ratio), np.sqrt(np.add(np.square(np.divide(sigma_num, yvals_num)), np.square(np.divide(sigma_denom, yvals_denom)))))\n",
      "/tmp/ipykernel_3403648/2819500801.py:20: RuntimeWarning: invalid value encountered in divide\n",
      "  ratio = np.divide(num, denomSM)\n",
      "/tmp/ipykernel_3403648/2819500801.py:8: RuntimeWarning: invalid value encountered in divide\n",
      "  ratio = np.divide(yvals_num, yvals_denom)\n",
      "/tmp/ipykernel_3403648/2819500801.py:12: RuntimeWarning: invalid value encountered in divide\n",
      "  sigma_y = np.multiply(np.abs(ratio), np.sqrt(np.add(np.square(np.divide(sigma_num, yvals_num)), np.square(np.divide(sigma_denom, yvals_denom)))))\n"
     ]
    },
    {
     "name": "stdout",
     "output_type": "stream",
     "text": [
      "plot saved to /users/hnelson2/afs/ttbarEFT/analysis/mc_validation/tW_plots/kinematics/tWLO_stpt2/nleps.png\n"
     ]
    },
    {
     "name": "stderr",
     "output_type": "stream",
     "text": [
      "/tmp/ipykernel_3403648/2819500801.py:20: RuntimeWarning: invalid value encountered in divide\n",
      "  ratio = np.divide(num, denomSM)\n",
      "/tmp/ipykernel_3403648/2819500801.py:8: RuntimeWarning: invalid value encountered in divide\n",
      "  ratio = np.divide(yvals_num, yvals_denom)\n",
      "/tmp/ipykernel_3403648/2819500801.py:12: RuntimeWarning: invalid value encountered in divide\n",
      "  sigma_y = np.multiply(np.abs(ratio), np.sqrt(np.add(np.square(np.divide(sigma_num, yvals_num)), np.square(np.divide(sigma_denom, yvals_denom)))))\n"
     ]
    },
    {
     "name": "stdout",
     "output_type": "stream",
     "text": [
      "plot saved to /users/hnelson2/afs/ttbarEFT/analysis/mc_validation/tW_plots/kinematics/tWLO_stpt2/ntops.png\n",
      "plot saved to /users/hnelson2/afs/ttbarEFT/analysis/mc_validation/tW_plots/kinematics/tWLO_stpt2/mll.png\n"
     ]
    },
    {
     "name": "stderr",
     "output_type": "stream",
     "text": [
      "/tmp/ipykernel_3403648/2819500801.py:20: RuntimeWarning: invalid value encountered in divide\n",
      "  ratio = np.divide(num, denomSM)\n",
      "/tmp/ipykernel_3403648/2819500801.py:8: RuntimeWarning: invalid value encountered in divide\n",
      "  ratio = np.divide(yvals_num, yvals_denom)\n",
      "/tmp/ipykernel_3403648/2819500801.py:12: RuntimeWarning: invalid value encountered in divide\n",
      "  sigma_y = np.multiply(np.abs(ratio), np.sqrt(np.add(np.square(np.divide(sigma_num, yvals_num)), np.square(np.divide(sigma_denom, yvals_denom)))))\n",
      "/tmp/ipykernel_3403648/2819500801.py:20: RuntimeWarning: invalid value encountered in divide\n",
      "  ratio = np.divide(num, denomSM)\n",
      "/tmp/ipykernel_3403648/2819500801.py:8: RuntimeWarning: invalid value encountered in divide\n",
      "  ratio = np.divide(yvals_num, yvals_denom)\n",
      "/tmp/ipykernel_3403648/2819500801.py:12: RuntimeWarning: invalid value encountered in divide\n",
      "  sigma_y = np.multiply(np.abs(ratio), np.sqrt(np.add(np.square(np.divide(sigma_num, yvals_num)), np.square(np.divide(sigma_denom, yvals_denom)))))\n"
     ]
    },
    {
     "name": "stdout",
     "output_type": "stream",
     "text": [
      "plot saved to /users/hnelson2/afs/ttbarEFT/analysis/mc_validation/tW_plots/kinematics/tWLO_stpt2/dr_leps.png\n",
      "plot saved to /users/hnelson2/afs/ttbarEFT/analysis/mc_validation/tW_plots/kinematics/tWLO_stpt2/l0pt.png\n",
      "plot saved to /users/hnelson2/afs/ttbarEFT/analysis/mc_validation/tW_plots/kinematics/tWLO_stpt2/top_pt.png\n",
      "plot saved to /users/hnelson2/afs/ttbarEFT/analysis/mc_validation/tW_plots/kinematics/tWLO_stpt2/mt2.png\n",
      "plot saved to /users/hnelson2/afs/ttbarEFT/analysis/mc_validation/tW_plots/kinematics/tWLO_stpt2/mt2.png\n"
     ]
    }
   ],
   "source": [
    "#### Make plots for tWLO_stpt2 sample \n",
    "outpath = \"/users/hnelson2/afs/ttbarEFT/analysis/mc_validation/tW_plots/kinematics/tWLO_stpt2/\"\n",
    "for name in tWtop: \n",
    "    hpowheg = tWtop[name]+tWantitop[name]\n",
    "    hEFT = tWLO_stpt2[name]\n",
    "    fig, ax, rax = make_plot_with_ratio(hEFT, hpowheg, \"tW_EFT(stpt2)\", \"tW_powheg\", name, \"Reweighted to SM, normalized to 1.0\")\n",
    "    outname = os.path.join(outpath, f\"{name}.png\")    \n",
    "    fig.savefig(outname)\n",
    "    print(f'plot saved to {outname}')\n",
    "    plt.close(fig)\n",
    "\n",
    "# make mt2 plot with the right bounds for SM reweight point \n",
    "name='mt2'\n",
    "hpowheg = tWtop[name]+tWantitop[name]\n",
    "hEFT = tWLO_stpt2[name]\n",
    "fig, ax, rax = make_plot_with_ratio(hEFT, hpowheg, \"tW_EFT(stpt2)\", \"tW_powheg\", name, \"Reweighted to SM, normalized to 1.0\")\n",
    "ax.set_xlim([0,125])\n",
    "outname = os.path.join(outpath, f\"{name}.png\")    \n",
    "fig.savefig(outname)\n",
    "print(f'plot saved to {outname}')\n",
    "plt.close(fig)"
   ]
  },
  {
   "cell_type": "markdown",
   "id": "67cbb782-2e7a-43b4-ba23-6068b2fc3617",
   "metadata": {},
   "source": [
    "# Kinematic Plots"
   ]
  },
  {
   "cell_type": "code",
   "execution_count": 14,
   "id": "36c3457e-10e1-4a6a-8ac5-8ab937a58bd3",
   "metadata": {},
   "outputs": [],
   "source": [
    "tWLO_stpt1_histEFT = utils.get_hist_from_pkl(\"/users/hnelson2/afs/ttbarEFT/analysis/mc_validation/tWLO_stpt1_histEFT.pkl.gz\", allow_empty=False)\n",
    "tWLO_stpt2_histEFT = utils.get_hist_from_pkl(\"/users/hnelson2/afs/ttbarEFT/analysis/mc_validation/tWLO_stpt2_histEFT.pkl.gz\", allow_empty=False)"
   ]
  },
  {
   "cell_type": "code",
   "execution_count": 15,
   "id": "143fd80c-39cc-4be1-b4c9-233250a00d36",
   "metadata": {},
   "outputs": [
    {
     "data": {
      "text/plain": [
       "<matplotlib.lines.Line2D at 0x7fd0344ec640>"
      ]
     },
     "execution_count": 15,
     "metadata": {},
     "output_type": "execute_result"
    },
    {
     "data": {
      "image/png": "[encoded data removed]",
      "text/plain": [
       "<Figure size 1000x1200 with 2 Axes>"
      ]
     },
     "metadata": {},
     "output_type": "display_data"
    }
   ],
   "source": [
    "outpath = \"/users/hnelson2/afs/ttbarEFT/analysis/mc_validation/tW_plots/kinematics/\"\n",
    "\n",
    "name='mt2'\n",
    "h1 = tWLO_stpt1_histEFT[name].as_hist({})\n",
    "h2 = tWLO_stpt1_histEFT[name].as_hist({'cQl333':10})\n",
    "h3 = tWLO_stpt1_histEFT[name].as_hist({'cleQt3Re33':10})\n",
    "h4 = tWLO_stpt1_histEFT[name].as_hist({'cleQt1Re33':10})\n",
    "\n",
    "bin_widths = h1.axes[1].edges\n",
    "\n",
    "val_SM = h1.values()[0]\n",
    "ratioSM = h1.values()[0]/val_SM\n",
    "ratio2 = h2.values()[0]/val_SM\n",
    "ratio3 = h3.values()[0]/val_SM\n",
    "ratio4 = h4.values()[0]/val_SM\n",
    "\n",
    "fig, (ax, rax) = plt.subplots(\n",
    "    nrows=2,\n",
    "    ncols=1,\n",
    "    figsize=(10,12),\n",
    "    gridspec_kw={\"height_ratios\": (3, 1)},\n",
    "    sharex=True\n",
    ")\n",
    "fig.subplots_adjust(hspace=.1)\n",
    "\n",
    "h1.plot1d(histtype=\"step\", ax=ax, stack=False, yerr=False, label=\"SM\", color=\"black\")\n",
    "h2.plot1d(histtype=\"step\", ax=ax, stack=False, yerr=False, label=\"cQl333=10\", color=\"red\")\n",
    "h3.plot1d(histtype=\"step\", ax=ax, stack=False, yerr=False, label=\"cleQt3Re33=10\", color=\"blue\")\n",
    "h4.plot1d(histtype=\"step\", ax=ax, stack=False, yerr=False, label=\"cleQt1Re33=10\", color=\"green\")\n",
    "\n",
    "# hep.histplot(ratioSM, bin_widths, ax=rax)\n",
    "hep.histplot(ratio2, bin_widths, ax=rax, color=\"red\")\n",
    "hep.histplot(ratio3, bin_widths, ax=rax, color=\"blue\")\n",
    "hep.histplot(ratio4, bin_widths, ax=rax, color=\"green\")\n",
    "\n",
    "ax.legend(loc='upper right', fontsize=16)\n",
    "ax.set_yscale('log')\n",
    "ax.set_ylabel('Events/Bin', fontsize=\"medium\")\n",
    "ax.set_xlabel('')\n",
    "rax.set_ylabel(\"EFT/SM\", fontsize='medium')\n",
    "rax.set_xlabel(\"mt2 [GeV]\", fontsize=\"medium\")\n",
    "rax.set_ylim([0,13])\n",
    "rax.axhline(y=5.0, color='gray', linestyle='--')\n",
    "rax.axhline(y=10.0, color='gray', linestyle='--')\n",
    "\n",
    "# outname = os.path.join(outpath, f\"mt2.png\")    \n",
    "# fig.savefig(outname)\n",
    "# print(f'plot saved to {outname}')\n",
    "# fig.show()"
   ]
  },
  {
   "cell_type": "raw",
   "id": "6bfa887d-8051-4be5-8532-4c1a186145d1",
   "metadata": {},
   "source": [
    "\"\"\"\n",
    "Create a dictionary of histograms that are two existing histEFTs summed together bin-wise. \n",
    "The StrCategory axis is not saved. \n",
    "\"\"\"\n",
    "powheg_SM_hists = {}\n",
    "\n",
    "rwgt = {}\n",
    "for name in tWtop_powheg_kin: \n",
    "    # save the 2 powheg histEFTs at the SM point\n",
    "    h1 = tWtop_powheg_kin[name].as_hist(rwgt) \n",
    "    h2 = tWantitop_powheg_kin[name].as_hist(rwgt)\n",
    "    # require the axes (regular axis) are identical between h1 and h2\n",
    "    assert h1.axes[1] == h2.axes[1], f\"Axes are different. h1.axes[1] = {h1.axes[1]}, h2.axes[2]={h2.axes[1]}\"\n",
    "    # save the axis from one of the histograms (from above, they are identical between the two) \n",
    "    ax1 = h1.axes[1]\n",
    "    # save the bin values for each histogram\n",
    "    val1 = h1.values()\n",
    "    val2 = h2.values() \n",
    "    # add val1 and val2 together such that the result is the corresponding bins from h1 and h2 added \n",
    "    sum1 = np.sum([val1, val2], axis=0)\n",
    "    # get the number of bins in the original historgam (different for different variables) \n",
    "    nbins = len(ax1.widths)\n",
    "\n",
    "    # create new, empty histogram with the \n",
    "    h_temp = hist.Hist(ax1)\n",
    "    h_temp[0:nbins]=sum1[0]\n",
    "\n",
    "    powheg_SM_hists[name]=h_temp"
   ]
  },
  {
   "cell_type": "code",
   "execution_count": 16,
   "id": "038ab76e-9025-41ac-8da3-b08bfaf64ea7",
   "metadata": {},
   "outputs": [],
   "source": [
    "# outpath = \"/afs/crc.nd.edu/user/h/hnelson2/www/tW_plots/April17/kinematics/\"\n",
    "# SM = {}\n",
    "# for h in powheg_SM_hists:\n",
    "#     h_new1 = new1_kin[h].as_hist(SM)\n",
    "#     h_new2 = new2_kin[h].as_hist(SM)\n",
    "#     h_powheg = powheg_SM_hists[h]\n",
    "    \n",
    "#     fig, ax = plt.subplots()\n",
    "\n",
    "#     h_powheg.plot1d(histtype=\"step\", ax=ax, stack=False, yerr=False, label=\"tW Powheg\")\n",
    "#     h_new1.plot1d(histtype=\"step\", ax=ax, stack=False, yerr=False, label=\"tW EFT\")\n",
    "    \n",
    "#     # h_powheg.plot1d(histtype=\"step\", ax=ax, stack=False, yerr=False, label=\"tW Powheg\", density=True)\n",
    "#     # h_new1.plot1d(histtype=\"step\", ax=ax, stack=False, yerr=False, label=\"tW EFT\", density=True)\n",
    "#     # h_new2.plot1d(histtype=\"step\", ax=ax, stack=False, yerr=False, label=\"tW EFT2\", density=True)\n",
    "#     ax.legend(loc='upper right', fontsize=14)\n",
    "#     plt.figtext(0.13, 0.89, \"Reweighted to SM\", fontsize=25)\n",
    "#     # ax.set_xscale('log')\n",
    "    \n",
    "#     outname = os.path.join(outpath, f\"{h}_SM.png\")    \n",
    "#     fig.savefig(outname)\n",
    "#     print(f'plot saved to {outname}')"
   ]
  },
  {
   "cell_type": "code",
   "execution_count": 17,
   "id": "a21d5d2a-1805-43df-bb2d-c22e27c249d0",
   "metadata": {},
   "outputs": [],
   "source": [
    "# outpath = \"/afs/crc.nd.edu/user/h/hnelson2/www/tW_plots/April17/kinematics_norm1/\"\n",
    "# SM = {}\n",
    "# for h in powheg_SM_hists:\n",
    "#     h_new1 = new1_kin[h].as_hist(SM)\n",
    "#     h_new2 = new2_kin[h].as_hist(SM)\n",
    "#     h_powheg = powheg_SM_hists[h]\n",
    "    \n",
    "#     fig, ax = plt.subplots()\n",
    "    \n",
    "#     h_powheg.plot1d(histtype=\"step\", ax=ax, stack=False, yerr=False, label=\"tW Powheg\", density=True)\n",
    "#     h_new1.plot1d(histtype=\"step\", ax=ax, stack=False, yerr=False, label=\"tW EFT\", density=True)\n",
    "#     ax.legend(loc='upper right', fontsize=14)\n",
    "#     plt.figtext(0.13, 0.89, \"Reweighted to SM\", fontsize=25)\n",
    "#     # ax.set_xscale('log')\n",
    "    \n",
    "#     outname = os.path.join(outpath, f\"{h}_SM.png\")    \n",
    "#     fig.savefig(outname)\n",
    "#     print(f'plot saved to {outname}')"
   ]
  },
  {
   "cell_type": "code",
   "execution_count": 18,
   "id": "82fd3803-cc06-461d-950d-7f705e8e938c",
   "metadata": {},
   "outputs": [],
   "source": [
    "# outpath = \"/afs/crc.nd.edu/user/h/hnelson2/www/tW_plots/April17/kinematics_norm1_log/\"\n",
    "# SM = {}\n",
    "# for h in powheg_SM_hists:\n",
    "#     h_new1 = new1_kin[h].as_hist(SM)\n",
    "#     h_new2 = new2_kin[h].as_hist(SM)\n",
    "#     h_powheg = powheg_SM_hists[h]\n",
    "    \n",
    "#     fig, ax = plt.subplots()\n",
    "    \n",
    "#     h_powheg.plot1d(histtype=\"step\", ax=ax, stack=False, yerr=False, label=\"tW Powheg\", density=True)\n",
    "#     h_new1.plot1d(histtype=\"step\", ax=ax, stack=False, yerr=False, label=\"tW EFT\", density=True)\n",
    "#     ax.legend(loc='upper right', fontsize=14)\n",
    "#     plt.figtext(0.13, 0.89, \"Reweighted to SM\", fontsize=25)\n",
    "#     ax.set_xscale('log')\n",
    "    \n",
    "#     outname = os.path.join(outpath, f\"{h}_SM.png\")    \n",
    "#     fig.savefig(outname)\n",
    "#     print(f'plot saved to {outname}')"
   ]
  },
  {
   "cell_type": "code",
   "execution_count": 19,
   "id": "2616ed68-e7ee-43e6-9fbe-882fccb7231a",
   "metadata": {},
   "outputs": [],
   "source": [
    "# outpath = \"/afs/crc.nd.edu/user/h/hnelson2/www/tW_plots/April17/kinematics_rwgt_medium/\"\n",
    "# rwgt={'ctGIm':-0.5, 'ctGRe':-0.5, 'cHQ3':1.5, 'ctWRe':-1.5, 'cleQt3Re':10.0, 'cleQt1Re':18.0, 'cQl3':12.0, 'cbWRe':-6.0, 'cHtbRe':6.0}\n",
    "# for h in powheg_SM_hists:\n",
    "#     h_new1 = new1_kin[h].as_hist(rwgt)\n",
    "#     h_medium = medium_kin[h].as_hist(rwgt)\n",
    "#     fig, ax = plt.subplots()\n",
    "    \n",
    "#     h_new1.plot1d(histtype=\"step\", ax=ax, stack=False, yerr=False, label=\"tW EFT\", density=True)\n",
    "#     h_medium.plot1d(histtype=\"step\", ax=ax, stack=False, yerr=False, label=\"dedicated\", density=True)\n",
    "#     ax.legend(loc='upper right', fontsize=14)\n",
    "#     plt.figtext(0.13, 0.89,  \"Reweighted to the dedicated sample starting poing\", fontsize=20)\n",
    "#     # ax.set_xscale('log')\n",
    "    \n",
    "#     # outname = os.path.join(outpath, f\"{h}_rwgt_medium.png\")    \n",
    "#     # fig.savefig(outname)\n",
    "#     # print(f'plot saved to {outname}')"
   ]
  },
  {
   "cell_type": "code",
   "execution_count": 20,
   "id": "2ceb9157-3ba5-43e4-96cb-6c81fbb7a824",
   "metadata": {},
   "outputs": [],
   "source": [
    "# outpath = \"/afs/crc.nd.edu/user/h/hnelson2/www/tW_plots/April17/kinematics_rwgt_large/\"\n",
    "# rwgt={'ctGIm':-1.5, 'ctGRe':-1.5, 'cHQ3':2.5, 'ctWRe':-2.5, 'cleQt3Re':15.0, 'cleQt1Re':20.0, 'cQl3':20.0, 'cbWRe':-10.0, 'cHtbRe':10.0}\n",
    "# for h in powheg_SM_hists:\n",
    "#     h_new1 = new1_kin[h].as_hist(rwgt)\n",
    "#     h_large = large_kin[h].as_hist(rwgt)\n",
    "    \n",
    "#     fig, ax = plt.subplots()\n",
    "    \n",
    "#     h_new1.plot1d(histtype=\"step\", ax=ax, stack=False, yerr=False, label=\"tW EFT\", density=True)\n",
    "#     h_large.plot1d(histtype=\"step\", ax=ax, stack=False, yerr=False, label=\"dedicated\", density=True)\n",
    "#     ax.legend(loc='upper right', fontsize=14)\n",
    "#     plt.figtext(0.13, 0.89, \"Reweighted to the dedicated sample starting poing\", fontsize=20)\n",
    "#     # ax.set_xscale('log')\n",
    "    \n",
    "#     outname = os.path.join(outpath, f\"{h}_rwgt_large.png\")    \n",
    "#     fig.savefig(outname)\n",
    "#     print(f'plot saved to {outname}')"
   ]
  },
  {
   "cell_type": "code",
   "execution_count": null,
   "id": "669eb92d-11c4-4093-b90d-a413f5b20a56",
   "metadata": {},
   "outputs": [],
   "source": []
  },
  {
   "cell_type": "markdown",
   "id": "6b9d07a9-dbef-46da-9419-e07ec8748ec8",
   "metadata": {},
   "source": [
    "# 1D Quad EFT Parameterization Plots"
   ]
  },
  {
   "cell_type": "code",
   "execution_count": null,
   "id": "a199a828-0d3c-4f32-ba15-dc0aea38d733",
   "metadata": {},
   "outputs": [],
   "source": [
    "import ttbarEFT.modules.plotting_tools_histEFT as plotTools\n",
    "import os"
   ]
  },
  {
   "cell_type": "code",
   "execution_count": 28,
   "id": "86047a08-af74-48a2-a8b3-fe8e03c8c7c5",
   "metadata": {},
   "outputs": [],
   "source": [
    "standAlone = plotTools.read_MGstandalone_txt(\"/users/hnelson2/afs/mc_production/standAloneMG/tW_SMEFTsim_top_xsec.txt\")"
   ]
  },
  {
   "cell_type": "code",
   "execution_count": 30,
   "id": "8d95690e-e3f8-4ed1-8724-fc3c003d32f4",
   "metadata": {},
   "outputs": [],
   "source": [
    "def make_scatter_list_oneWC(scatter_dict, norm, norm_uncert):\n",
    "\t'''\n",
    "\tscatter_dict must be a single entry dictionary, with only the information for a single WC\n",
    "\t'''\n",
    "\tscatter_xvals = scatter_dict[0]\n",
    "\tscatter_yvals = np.divide(np.array(scatter_dict[1]), norm)\n",
    "\tscatter_sigma = np.array(scatter_dict[2])\n",
    "\tsigma_y = np.multiply(scatter_yvals, (np.sqrt(np.add(np.square(np.divide(scatter_sigma, scatter_dict[1])),np.square(np.divide(norm_uncert, norm))))))\n",
    "\n",
    "\treturn [scatter_xvals, scatter_yvals, sigma_y]"
   ]
  },
  {
   "cell_type": "code",
   "execution_count": 31,
   "id": "fc7a3e82-099f-49e0-8270-98101d0b6ee3",
   "metadata": {},
   "outputs": [],
   "source": [
    "def make_samples_dict(file, wc_name, sample_names=None, hist_name='sow_norm', wc_max=6.0):\n",
    "\t\n",
    "    samples = {}\n",
    "\n",
    "    # for fname in files: \n",
    "    #     if sample_names is not None:\n",
    "    #         label = sample_names[fname]\n",
    "    #     elif fname.endswith('.pkl.gz'):\n",
    "    #         label = fname[:-7]\n",
    "    #     else: \n",
    "    #         label = fname\n",
    "\n",
    "    if wc_name == 'ctGRe' or wc_name == 'ctGIm':\n",
    "        wc_range = np.arange(-1.5, 1.5, 0.2)\n",
    "    else:\n",
    "        wc_range = np.arange(-wc_max, wc_max+0.5, 0.5)\n",
    "    h = plotTools.get_single_hist(file, hist_name)\n",
    "    norm = h.as_hist({}).values()[0] #get SM xsec of the sample and use this for normalization\n",
    "    weights = plotTools.calc_sow_array(h, wc_range, wc_name)\n",
    "\n",
    "    if norm != 1.0:\n",
    "        weights[1] = np.divide(weights[1], norm)\n",
    "\n",
    "    # samples[label] = weights\n",
    "\n",
    "    # return samples\n",
    "    return weights"
   ]
  },
  {
   "cell_type": "markdown",
   "id": "3da9193b-f8ba-4d8e-9885-a0ed62a9c442",
   "metadata": {},
   "source": [
    "## Comparing calculated vs reweighted xsecs"
   ]
  },
  {
   "cell_type": "code",
   "execution_count": 33,
   "id": "2dd6dbd3-f096-49ea-a2cc-127451bf5886",
   "metadata": {},
   "outputs": [],
   "source": [
    "# savedir = \"/afs/crc.nd.edu/user/h/hnelson2/www/tW_plots/April17/1d_quad_small/\"\n",
    "\n",
    "tWLO_stpt1_sow = \"/users/hnelson2/afs/ttbarEFT/analysis/mc_validation/TTto2L2Nu_stpt1_sow.pkl.gz\"\n",
    "tWLO_stpt2_sow = \"/users/hnelson2/afs/ttbarEFT/analysis/mc_validation/TTto2L2Nu_stpt2_sow.pkl.gz\"\n",
    "\n",
    "standAlone = plotTools.read_MGstandalone_txt(\"/users/hnelson2/afs/mc_production/standAloneMG/tW_SMEFTsim_top_xsec.txt\")"
   ]
  },
  {
   "cell_type": "code",
   "execution_count": 42,
   "id": "28092b7b-d2ee-4141-ae5d-fa16cbaca5f9",
   "metadata": {},
   "outputs": [
    {
     "name": "stderr",
     "output_type": "stream",
     "text": [
      "/tmp/ipykernel_3206185/3459188202.py:19: UserWarning: FigureCanvasAgg is non-interactive, and thus cannot be shown\n",
      "  fig.show()\n"
     ]
    },
    {
     "name": "stdout",
     "output_type": "stream",
     "text": [
      "saving plot to /users/hnelson2/afs/ttbarEFT/analysis/mc_validation/tW_plots/1dquad/2025-05-22_quad1d_ctGIm.png\n",
      "saving plot to /users/hnelson2/afs/ttbarEFT/analysis/mc_validation/tW_plots/1dquad/2025-05-22_quad1d_ctGRe.png\n",
      "saving plot to /users/hnelson2/afs/ttbarEFT/analysis/mc_validation/tW_plots/1dquad/2025-05-22_quad1d_cHQ3.png\n",
      "saving plot to /users/hnelson2/afs/ttbarEFT/analysis/mc_validation/tW_plots/1dquad/2025-05-22_quad1d_ctWRe.png\n",
      "saving plot to /users/hnelson2/afs/ttbarEFT/analysis/mc_validation/tW_plots/1dquad/2025-05-22_quad1d_cbWRe.png\n",
      "saving plot to /users/hnelson2/afs/ttbarEFT/analysis/mc_validation/tW_plots/1dquad/2025-05-22_quad1d_cHtbRe.png\n",
      "saving plot to /users/hnelson2/afs/ttbarEFT/analysis/mc_validation/tW_plots/1dquad/2025-05-22_quad1d_cQl311.png\n",
      "saving plot to /users/hnelson2/afs/ttbarEFT/analysis/mc_validation/tW_plots/1dquad/2025-05-22_quad1d_cQl322.png\n",
      "saving plot to /users/hnelson2/afs/ttbarEFT/analysis/mc_validation/tW_plots/1dquad/2025-05-22_quad1d_cQl333.png\n",
      "saving plot to /users/hnelson2/afs/ttbarEFT/analysis/mc_validation/tW_plots/1dquad/2025-05-22_quad1d_cleQt3Re11.png\n",
      "saving plot to /users/hnelson2/afs/ttbarEFT/analysis/mc_validation/tW_plots/1dquad/2025-05-22_quad1d_cleQt3Re22.png\n",
      "saving plot to /users/hnelson2/afs/ttbarEFT/analysis/mc_validation/tW_plots/1dquad/2025-05-22_quad1d_cleQt3Re33.png\n",
      "saving plot to /users/hnelson2/afs/ttbarEFT/analysis/mc_validation/tW_plots/1dquad/2025-05-22_quad1d_cleQt1Re11.png\n",
      "saving plot to /users/hnelson2/afs/ttbarEFT/analysis/mc_validation/tW_plots/1dquad/2025-05-22_quad1d_cleQt1Re22.png\n",
      "saving plot to /users/hnelson2/afs/ttbarEFT/analysis/mc_validation/tW_plots/1dquad/2025-05-22_quad1d_cleQt1Re33.png\n"
     ]
    }
   ],
   "source": [
    "savedir = \"/users/hnelson2/afs/ttbarEFT/analysis/mc_validation/tW_plots/1dquad/\"\n",
    "for wc in standAlone.keys():\n",
    "    stpt1_dict = make_samples_dict(file=tWLO_stpt1_sow, wc_name=wc, wc_max=10.0)\n",
    "    stpt2_dict = make_samples_dict(file=tWLO_stpt2_sow, wc_name=wc, wc_max=10.0)\n",
    "    \n",
    "    # standalone_dict = make_scatter_list_oneWC(standAlone[wc], 5.63, 0.01903)\n",
    "    standalone_dict = make_scatter_list_oneWC(standAlone[wc], 5.626, 0.02046)\n",
    "    \n",
    "    fig, ax = plt.subplots()\n",
    "    ax.scatter(standalone_dict[0], standalone_dict[1], label = \"MG standalone\")\n",
    "    ax.errorbar(standalone_dict[0], standalone_dict[1], yerr = standalone_dict[2], xerr = None, capsize=5, ls='none')\n",
    "    ax.plot(stpt1_dict[0], stpt1_dict[1], label=\"stpt1\")\n",
    "    ax.plot(stpt2_dict[0], stpt2_dict[1], label=\"stpt2\")\n",
    "\n",
    "    ax.legend(loc='best', fontsize='medium') #bbox_to_anchor=(1.02, 0.5),\n",
    "    ax.set_xlabel(wc, fontsize = 'large')\n",
    "    ax.set_ylabel(r\"$\\sigma_{SMEFT} /\\ \\sigma_{SM}$\", fontsize='large')\n",
    "    # ax.set_xlim([-6.0, 6.0])\n",
    "    fig.show()\n",
    "    \n",
    "    figname = f\"2025-05-22_quad1d_{wc}.png\"\n",
    "    fig.savefig(os.path.join(savedir,figname)) #bbox_inches='tight'\n",
    "    print(f\"saving plot to {os.path.join(savedir, figname)}\")\n",
    "    plt.close(fig)"
   ]
  },
  {
   "cell_type": "markdown",
   "id": "aded5651-a6d9-473e-b713-074e10a9b75b",
   "metadata": {},
   "source": [
    "## Checking that my histEFT function returns the correct values for reweighted xsecs"
   ]
  },
  {
   "cell_type": "raw",
   "id": "deb5eb05-fa9c-4196-881a-c6ff900dd064",
   "metadata": {},
   "source": [
    "small_sow_dict = make_samples_dict(file=\"../tW_small_sow.pkl.gz\", wc_name='ctGRe', wc_max=1.0)\n",
    "small_sow_hists = utils.get_hist_from_pkl(\"../tW_small_sow.pkl.gz\", allow_empty=False)\n",
    "sow_SM_xsec = small_sow_hists['sow_norm'].as_hist({}).values()[0]"
   ]
  },
  {
   "cell_type": "raw",
   "id": "93e213bd-61d7-4cd2-8aef-67e475b2e40c",
   "metadata": {},
   "source": [
    "h = small_sow_hists['sow_norm']\n",
    "wc = 'ctGRe'\n",
    "norm = 6.02563848\n",
    "vals = []\n",
    "for i in [-1.0, -0.7, -0.4, -0.2, 0.2, 0.4, 0.7, 1.0]:\n",
    "    h_tmp = h.as_hist({wc:i})\n",
    "    # print(f\"ctGRe = {i} : xsec = {h_tmp.values()[0]/norm}\")\n",
    "    vals.append(h_tmp.values()[0]/norm)"
   ]
  },
  {
   "cell_type": "raw",
   "id": "e92befa6-b229-4191-8834-5792dd9a2269",
   "metadata": {},
   "source": [
    "standalone_dict = make_scatter_list_oneWC(standAlone[wc], 5.63, 0.01903)"
   ]
  },
  {
   "cell_type": "raw",
   "id": "063e3ebd-0d92-4a36-87bf-af34c1cdca99",
   "metadata": {},
   "source": [
    "wc = 'ctGRe'\n",
    "\n",
    "standalone_dict = make_scatter_list_oneWC(standAlone[wc], 5.63, 0.01903)\n",
    "gridpack_dict = make_scatter_list_oneWC(gridpack[wc], 5.92199011614, 0.266680304541)\n",
    "\n",
    "fig, ax = plt.subplots()\n",
    "ax.scatter(standalone_dict[0], standalone_dict[1], label = \"MG standalone\")\n",
    "ax.errorbar(standalone_dict[0], standalone_dict[1], yerr = standalone_dict[2], xerr = None, capsize=5, ls='none')\n",
    "ax.scatter(gridpack_dict[0], gridpack_dict[1], label = \"gridpack\")\n",
    "ax.errorbar(gridpack_dict[0], gridpack_dict[1], yerr = gridpack_dict[2], xerr = None, capsize=5, ls='none')\n",
    "\n",
    "ax.plot(small_sow_dict[0], small_sow_dict[1], label=\"histEFT script\")\n",
    "ax.scatter([-1.0, -0.7, -0.4, -0.2, 0.2, 0.4, 0.7, 1.0], vals, label=\"histEFT manual\")\n",
    "\n",
    "ax.legend(loc='best', bbox_to_anchor=(1.02, 1.0), fontsize='medium')\n",
    "ax.set_xlabel(wc, fontsize = 'large')"
   ]
  },
  {
   "cell_type": "raw",
   "id": "c3dc0f9c-e1b0-4212-ae6a-12e9524e04e7",
   "metadata": {},
   "source": [
    "savedir = \"/afs/crc.nd.edu/user/h/hnelson2/www/tW_plots/April17/1d_quad_small/\"\n",
    "for wc in standAlone.keys():\n",
    "    new1_dict = make_samples_dict(file=new1, wc_name=wc, wc_max=6.0)\n",
    "    new2_dict = make_samples_dict(file=new2, wc_name=wc, wc_max=6.0)\n",
    "    # orig_dict = make_samples_dict(file=orig, wc_name=wc, wc_max=10.0)\n",
    "    # small_dict = make_samples_dict(file=small, wc_name=wc, wc_max=10.0)\n",
    "    # medium_dict = make_samples_dict(file=medium, wc_name=wc, wc_max=10.0)\n",
    "    # large_dict = make_samples_dict(file=large, wc_name=wc, wc_max=10.0)\n",
    "    \n",
    "    standalone_dict = make_scatter_list_oneWC(standAlone[wc], 5.63, 0.01903)\n",
    "    # gridpack_dict = make_scatter_list_oneWC(gridpack[wc], 5.92199011614, 0.266680304541)\n",
    "    \n",
    "    fig, ax = plt.subplots()\n",
    "    ax.scatter(standalone_dict[0], standalone_dict[1], label = \"MG standalone\")\n",
    "    ax.errorbar(standalone_dict[0], standalone_dict[1], yerr = standalone_dict[2], xerr = None, capsize=5, ls='none')\n",
    "    # ax.scatter(gridpack_dict[0], gridpack_dict[1], label = \"gridpack\")\n",
    "    # ax.errorbar(gridpack_dict[0], gridpack_dict[1], yerr = gridpack_dict[2], xerr = None, capsize=5, ls='none')\n",
    "\n",
    "    # ax.plot(new1_dict[0], new1_dict[1], label=\"tW EFT\")\n",
    "    ax.plot(new2_dict[0], new2_dict[1], label=\"tW EFT\")\n",
    "    # ax.plot(orig_dict[0], orig_dict[1], label=\"tW_orig\")\n",
    "    # ax.plot(small_dict[0], small_dict[1], label=\"tW_small\")\n",
    "    # ax.plot(medium_dict[0], medium_dict[1], label=\"tW_medium\")\n",
    "    # ax.plot(large_dict[0], large_dict[1], label=\"tW_large\")\n",
    "\n",
    "    ax.legend(loc='best', fontsize='medium') #bbox_to_anchor=(1.02, 0.5),\n",
    "    ax.set_xlabel(wc, fontsize = 'large')\n",
    "    ax.set_ylabel(r\"$\\sigma_{SMEFT} /\\ \\sigma_{SM}$\", fontsize='large')\n",
    "    ax.set_xlim([-6.0, 6.0])\n",
    "    fig.show()\n",
    "    \n",
    "    figname = f\"quad1d_{wc}.png\"\n",
    "    fig.savefig(os.path.join(savedir,figname)) #bbox_inches='tight'\n",
    "    print(f\"saving plot to {os.path.join(savedir, figname)}\")\n",
    "    plt.close(fig)"
   ]
  },
  {
   "cell_type": "raw",
   "id": "cf619e8b-819e-475b-8ab9-e49bd75a212b",
   "metadata": {},
   "source": [
    "savedir = \"/afs/crc.nd.edu/user/h/hnelson2/www/tW_plots/April17/1d_quad_small/\"\n",
    "wclst = ['ctGRe', 'ctGIm']\n",
    "for wc in wclst:\n",
    "# for wc in standAlone.keys():\n",
    "    new1_dict = make_samples_dict(file=new1, wc_name=wc, wc_max=10.0)\n",
    "    new2_dict = make_samples_dict(file=new2, wc_name=wc, wc_max=10.0)\n",
    "    # orig_dict = make_samples_dict(file=orig, wc_name=wc, wc_max=10.0)\n",
    "    # small_dict = make_samples_dict(file=small, wc_name=wc, wc_max=10.0)\n",
    "    # medium_dict = make_samples_dict(file=medium, wc_name=wc, wc_max=10.0)\n",
    "    # large_dict = make_samples_dict(file=large, wc_name=wc, wc_max=10.0)\n",
    "    \n",
    "    standalone_dict = make_scatter_list_oneWC(standAlone[wc], 5.63, 0.01903)\n",
    "    # gridpack_dict = make_scatter_list_oneWC(gridpack[wc], 5.92199011614, 0.266680304541)\n",
    "    \n",
    "    fig, ax = plt.subplots()\n",
    "    ax.scatter(standalone_dict[0], standalone_dict[1], label = \"MG standalone\")\n",
    "    ax.errorbar(standalone_dict[0], standalone_dict[1], yerr = standalone_dict[2], xerr = None, capsize=5, ls='none')\n",
    "    # ax.scatter(gridpack_dict[0], gridpack_dict[1], label = \"gridpack\")\n",
    "    # ax.errorbar(gridpack_dict[0], gridpack_dict[1], yerr = gridpack_dict[2], xerr = None, capsize=5, ls='none')\n",
    "\n",
    "    # ax.plot(new1_dict[0], new1_dict[1], label=\"tW EFT\")\n",
    "    ax.plot(new2_dict[0], new2_dict[1], label=\"tW EFT\")\n",
    "    # ax.plot(orig_dict[0], orig_dict[1], label=\"tW_orig\")\n",
    "    # ax.plot(small_dict[0], small_dict[1], label=\"tW_small\")\n",
    "    # ax.plot(medium_dict[0], medium_dict[1], label=\"tW_medium\")\n",
    "    # ax.plot(large_dict[0], large_dict[1], label=\"tW_large\")\n",
    "\n",
    "    ax.legend(loc='best', fontsize='medium') #bbox_to_anchor=(1.02, 0.5),\n",
    "    ax.set_xlabel(wc, fontsize = 'large')\n",
    "    ax.set_ylabel(r\"$\\sigma_{SMEFT} /\\ \\sigma_{SM}$\", fontsize='large')\n",
    "    # ax.set_xlim([-6.0, 6.0])\n",
    "    fig.show()\n",
    "    \n",
    "    figname = f\"quad1d_{wc}.png\"\n",
    "    fig.savefig(os.path.join(savedir,figname)) #bbox_inches='tight'\n",
    "    print(f\"saving plot to {os.path.join(savedir, figname)}\")\n",
    "    plt.close(fig)"
   ]
  }
 ],
 "metadata": {
  "kernelspec": {
   "display_name": "Python 3 (ipykernel)",
   "language": "python",
   "name": "python3"
  },
  "language_info": {
   "codemirror_mode": {
    "name": "ipython",
    "version": 3
   },
   "file_extension": ".py",
   "mimetype": "text/x-python",
   "name": "python",
   "nbconvert_exporter": "python",
   "pygments_lexer": "ipython3",
   "version": "3.9.19"
  }
 },
 "nbformat": 4,
 "nbformat_minor": 5
}
