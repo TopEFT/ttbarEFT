{
 "cells": [
  {
   "cell_type": "code",
   "execution_count": 1,
   "id": "88003616-4812-49c3-8e24-5a53f6610ba3",
   "metadata": {},
   "outputs": [],
   "source": [
    "import numpy as np\n",
    "import awkward as ak\n",
    "import uproot\n",
    "\n",
    "import hist\n",
    "from topcoffea.modules.histEFT import HistEFT\n",
    "import topcoffea.modules.utils as utils\n",
    "\n",
    "import mplhep as hep\n",
    "import matplotlib.pyplot as plt\n",
    "import matplotlib as mpl\n",
    "import os"
   ]
  },
  {
   "cell_type": "code",
   "execution_count": 2,
   "id": "f0c3ec2f-504f-40bb-9dc1-fae7ad46a2e4",
   "metadata": {},
   "outputs": [],
   "source": [
    "def namestr(obj, namespace):\n",
    "    return [name for name in namespace if namespace[name] is obj]"
   ]
  },
  {
   "cell_type": "code",
   "execution_count": 3,
   "id": "40c2f69d-bf95-490f-9760-fe738a4ab1c2",
   "metadata": {},
   "outputs": [],
   "source": [
    "hep.style.use(\"CMS\")\n",
    "params = {'axes.labelsize': 20,\n",
    "          'axes.titlesize': 20,\n",
    "          'legend.fontsize':20, \n",
    "          'lines.markersize':5}\n",
    "plt.rcParams.update(params)\n",
    "\n",
    "cmap = mpl.colormaps[\"tab10\"]  # type: matplotlib.colors.ListedColormap\n",
    "colors = cmap.colors  # type: list"
   ]
  },
  {
   "cell_type": "code",
   "execution_count": 4,
   "id": "458c630c-f87f-45d0-8363-90325615e4c3",
   "metadata": {},
   "outputs": [
    {
     "name": "stdout",
     "output_type": "stream",
     "text": [
      "['cleQt1Re33', 'cleQt1Re11', 'cleQt3Re22', 'cleQt1Re22', 'cQl333', 'cQl322', 'cleQt3Re33', 'cQl311', 'ctGRe', 'ctGIm', 'cleQt3Re11', 'cHQ3', 'ctWRe', 'cbWRe', 'cHtbRe']\n"
     ]
    }
   ],
   "source": [
    "wc_lst = utils.get_list_of_wc_names(\"/cms/cephfs/data/store/user/hnelson2/mc/NanoGen/tWLO_SMEFTsimtop/NanoGen_tWLO_rwgt1/nanoGen_376.root\")\n",
    "print(wc_lst)"
   ]
  },
  {
   "cell_type": "markdown",
   "id": "c6fac880-7d7c-41ec-8d42-14ce63474d64",
   "metadata": {},
   "source": [
    "# Event Weight Plots"
   ]
  },
  {
   "cell_type": "code",
   "execution_count": 5,
   "id": "10932b44-9045-4e3c-aaa3-c1995aeadad3",
   "metadata": {},
   "outputs": [],
   "source": [
    "# utils.get_hist_from_pkl(\"\", allow_empty=False)\n",
    "\n",
    "tWLO_stpt1_weights = utils.get_hist_from_pkl(\"/users/hnelson2/afs/ttbarEFT/analysis/mc_validation/tWLO_stpt1_weights.pkl.gz\", allow_empty=False)\n",
    "tWLO_stpt2_weights = utils.get_hist_from_pkl(\"/users/hnelson2/afs/ttbarEFT/analysis/mc_validation/tWLO_stpt2_weights.pkl.gz\", allow_empty=False)"
   ]
  },
  {
   "cell_type": "code",
   "execution_count": 6,
   "id": "d32bb98a-9968-4685-bc16-dcd73b438e71",
   "metadata": {},
   "outputs": [
    {
     "name": "stdout",
     "output_type": "stream",
     "text": [
      "plot saved to /users/hnelson2/afs/ttbarEFT/analysis/mc_validation/tW_plots/event_weights/tWLO_stpt1_event_weights.png\n",
      "plot saved to /users/hnelson2/afs/ttbarEFT/analysis/mc_validation/tW_plots/event_weights/tWLO_stpt2_event_weights.png\n"
     ]
    }
   ],
   "source": [
    "outpath = \"/users/hnelson2/afs/ttbarEFT/analysis/mc_validation/tW_plots/event_weights\"\n",
    "\n",
    "weight_plots = {\"tWLO_stpt1_event_weights\":tWLO_stpt1_weights, \"tWLO_stpt2_event_weights\":tWLO_stpt2_weights}\n",
    "\n",
    "for hists in weight_plots: \n",
    "    fig, ax = plt.subplots()\n",
    "    ax.set_prop_cycle(color=colors)\n",
    "    for h in weight_plots[hists]:\n",
    "        hep.histplot(weight_plots[hists][h], ax=ax, stack=False, yerr=True, linewidth=2, label=h[:-4][8:])\n",
    "    ax.set_xlabel(\"log(event weight)\")\n",
    "    ax.set_ylabel(\"Counts\")\n",
    "    ax.set_xlim([-2.5,0.01])\n",
    "    ax.legend(loc='upper right')\n",
    "    outname=os.path.join(outpath, f\"{hists}.png\")\n",
    "    fig.savefig(outname)\n",
    "    print(f'plot saved to {outname}')\n",
    "    plt.close(fig)"
   ]
  },
  {
   "cell_type": "markdown",
   "id": "6679b2bf-bac0-4261-b678-7ff40e9f3eda",
   "metadata": {},
   "source": [
    "# Kinematic Plots with Uncertainties"
   ]
  },
  {
   "cell_type": "code",
   "execution_count": 44,
   "id": "70633414-d039-4009-94c1-d1271789b07d",
   "metadata": {},
   "outputs": [],
   "source": [
    "def get_ratio_uncertainty(num_hist, denom_hist):\n",
    "    xvals = num_hist.axes.centers[0]\n",
    "    yvals_num = num_hist.values()\n",
    "    yvals_denom = denom_hist.values()\n",
    "    sigma_num = np.sqrt(num_hist.variances())\n",
    "    sigma_denom = np.sqrt(denom_hist.variances())\n",
    "\n",
    "    ratio = np.divide(yvals_num, yvals_denom)\n",
    "\n",
    "    # calculation for error propagation for ratio = yavls_num/yvals_denom\n",
    "    # generally, z=x/y; sigma_z = abs(z)sqrt((sigma_x/x)^2+(sigma_y/y)^2)\n",
    "    sigma_y = np.multiply(np.abs(ratio), np.sqrt(np.add(np.square(np.divide(sigma_num, yvals_num)), np.square(np.divide(sigma_denom, yvals_denom)))))\n",
    "\n",
    "    return sigma_y\n",
    "\n",
    "def get_ratio_points(hist1, histSM):\n",
    "    num = hist1.values()\n",
    "    centers = hist1.axes.centers[0]\n",
    "    denomSM = histSM.values()\n",
    "    ratio = np.divide(num, denomSM)\n",
    "\n",
    "    return centers, ratio\n",
    "\n",
    "def make_plot_with_ratio(h_num, h_denom, label_num, label_denom, xlabel, title):\n",
    "    ## get ratios and uncertainties\n",
    "    centers, ratio = get_ratio_points(h_num, h_denom)\n",
    "    uncert = get_ratio_uncertainty(h_num, h_denom)\n",
    "\n",
    "    ## Initialize figure and axes\n",
    "    # fig, ax = plt.subplots()\n",
    "    fig, (ax, rax) = plt.subplots(\n",
    "        nrows=2,\n",
    "        ncols=1,\n",
    "        figsize=(10,12),\n",
    "        gridspec_kw={\"height_ratios\": (3, 1)},\n",
    "        sharex=True\n",
    "    )\n",
    "    fig.subplots_adjust(hspace=.1)\n",
    "\n",
    "    ## Plot histograms and ratio plot\n",
    "    hep.histplot(h_num, ax=ax, stack=False, yerr=True, linewidth=2, label=label_num)\n",
    "    hep.histplot(h_denom, ax=ax, stack=False, yerr=True, linewidth=2, label=label_denom)\n",
    "    rax.scatter(centers, ratio)\n",
    "    rax.errorbar(centers, ratio, xerr = None, yerr = uncert, capsize=5, ls='none')\n",
    "\n",
    "    ## Formatting\n",
    "    ax.legend(loc = 'upper right', fontsize = 'small')\n",
    "    ax.set_ylabel(\"Events\", fontsize='medium')\n",
    "    ax.set_xlabel(\"\")\n",
    "    rax.set_ylabel(\"Ratio\", fontsize='medium')\n",
    "    rax.set_xlabel(xlabel, fontsize=\"medium\")\n",
    "    rax.set_ylim([0, 2])\n",
    "    rax.axhline(y=1.0, color='gray', linestyle='--')\n",
    "    # rax.grid(axis='y')\n",
    "    plt.figtext(0.13, 0.9, title, fontsize='small')\n",
    "\n",
    "    return fig, ax, rax\n",
    "\n",
    "def make_plot_2samples_with_ratio(h_num1, h_num2, h_denom, label_num1, label_num2, label_denom, xlabel, title):\n",
    "    ## get ratios and uncertainties\n",
    "    centers1, ratio1 = get_ratio_points(h_num1, h_denom)\n",
    "    uncert1 = get_ratio_uncertainty(h_num1, h_denom)\n",
    "    \n",
    "    centers2, ratio2 = get_ratio_points(h_num2, h_denom)\n",
    "    uncert2 = get_ratio_uncertainty(h_num2, h_denom)\n",
    "\n",
    "    ## Initialize figure and axes\n",
    "    # fig, ax = plt.subplots()\n",
    "    fig, (ax, rax) = plt.subplots(\n",
    "        nrows=2,\n",
    "        ncols=1,\n",
    "        figsize=(10,12),\n",
    "        gridspec_kw={\"height_ratios\": (3, 1)},\n",
    "        sharex=True\n",
    "    )\n",
    "    fig.subplots_adjust(hspace=.1)\n",
    "\n",
    "    ## Plot histograms and ratio plot\n",
    "    hep.histplot(h_num1, ax=ax, stack=False, yerr=True, linewidth=2, label=label_num1)\n",
    "    hep.histplot(h_num2, ax=ax, stack=False, yerr=True, linewidth=2, label=label_num2)\n",
    "    hep.histplot(h_denom, ax=ax, stack=False, yerr=True, linewidth=2, label=label_denom)\n",
    "    rax.scatter(centers1, ratio1)\n",
    "    rax.errorbar(centers1, ratio1, xerr = None, yerr = uncert1, capsize=5, ls='none')\n",
    "    rax.scatter(centers2, ratio2)\n",
    "    rax.errorbar(centers2, ratio2, xerr = None, yerr = uncert2, capsize=5, ls='none')\n",
    "\n",
    "    ## Formatting\n",
    "    ax.legend(loc = 'upper right', fontsize = 'small')\n",
    "    ax.set_ylabel(\"Events\", fontsize='medium')\n",
    "    ax.set_xlabel(\"\")\n",
    "    rax.set_ylabel(\"Ratio\", fontsize='medium')\n",
    "    rax.set_xlabel(xlabel, fontsize=\"medium\")\n",
    "    rax.set_ylim([0, 2])\n",
    "    rax.axhline(y=1.0, color='gray', linestyle='--')\n",
    "    # rax.grid(axis='y')\n",
    "    plt.figtext(0.13, 0.9, title, fontsize='small')\n",
    "\n",
    "    return fig, ax, rax"
   ]
  },
  {
   "cell_type": "code",
   "execution_count": 41,
   "id": "2e6cd4f0-8826-4c3f-8950-839f9f2a6be7",
   "metadata": {},
   "outputs": [
    {
     "name": "stdout",
     "output_type": "stream",
     "text": [
      "\n",
      " tWtop_kin.pkl.gz\n",
      "    njets:WeightedSum(value=0.92038, variance=2.11741e-05)\n",
      "    nleps:WeightedSum(value=0.92038, variance=2.11741e-05)\n",
      "    ntops:WeightedSum(value=0.92038, variance=2.11741e-05)\n",
      "    mll:WeightedSum(value=0.919922, variance=2.11615e-05)\n",
      "    dr_leps:WeightedSum(value=0.92038, variance=2.11741e-05)\n",
      "    l0pt:WeightedSum(value=0.91818, variance=2.11174e-05)\n",
      "    top_pt:WeightedSum(value=0.919694, variance=2.11562e-05)\n",
      "    mt2:WeightedSum(value=0.920357, variance=2.11735e-05)\n",
      "\n",
      " tWantitop_kin.pkl.gz\n",
      "    njets:WeightedSum(value=0.924623, variance=2.32421e-05)\n",
      "    nleps:WeightedSum(value=0.924623, variance=2.32421e-05)\n",
      "    ntops:WeightedSum(value=0.924623, variance=2.32421e-05)\n",
      "    mll:WeightedSum(value=0.924273, variance=2.32321e-05)\n",
      "    dr_leps:WeightedSum(value=0.924623, variance=2.32421e-05)\n",
      "    l0pt:WeightedSum(value=0.922496, variance=2.31876e-05)\n",
      "    top_pt:WeightedSum(value=0.923898, variance=2.3224e-05)\n",
      "    mt2:WeightedSum(value=0.924623, variance=2.32421e-05)\n"
     ]
    }
   ],
   "source": [
    "## do this when the normalization is just xsec/sow to find what constant is needed to normalize all hists in this sample to 1.0\n",
    "tWLO_stpt1_kin = utils.get_hist_from_pkl(\"/users/hnelson2/afs/ttbarEFT/analysis/mc_validation/tWLO_stpt1_kin.pkl.gz\", allow_empty=False)\n",
    "tWLO_stpt2_kin = utils.get_hist_from_pkl(\"/users/hnelson2/afs/ttbarEFT/analysis/mc_validation/tWLO_stpt2_kin.pkl.gz\", allow_empty=False)\n",
    "tWtop_kin = utils.get_hist_from_pkl(\"/users/hnelson2/afs/ttbarEFT/analysis/mc_validation/tWtop_powheg_kin.pkl.gz\", allow_empty=False)\n",
    "tWantitop_kin = utils.get_hist_from_pkl(\"/users/hnelson2/afs/ttbarEFT/analysis/mc_validation/tWantitop_powheg_kin.pkl.gz\", allow_empty=False)\n",
    "\n",
    "# pkl_files = [tWLO_stpt1_kin, tWLO_stpt2_kin, tWtop_kin, tWantitop_kin]\n",
    "pkl_files = [tWtop_kin, tWantitop_kin]\n",
    "for hists in pkl_files: \n",
    "    print(f\"\\n {namestr(hists, globals())[1]}.pkl.gz\")\n",
    "    for h in hists:\n",
    "        print(f\"    {h}:{hists[h].sum()}\")"
   ]
  },
  {
   "cell_type": "code",
   "execution_count": 42,
   "id": "9f10a63b-7d60-4407-bd4d-6d9b202c03a2",
   "metadata": {},
   "outputs": [],
   "source": [
    "tWtop = utils.get_hist_from_pkl(\"/users/hnelson2/afs/ttbarEFT/analysis/mc_validation/tWtop_powheg_kin_norm.pkl.gz\", allow_empty=False)\n",
    "tWantitop = utils.get_hist_from_pkl(\"/users/hnelson2/afs/ttbarEFT/analysis/mc_validation/tWantitop_powheg_kin_norm.pkl.gz\", allow_empty=False)\n",
    "tWLO_stpt1 = utils.get_hist_from_pkl(\"/users/hnelson2/afs/ttbarEFT/analysis/mc_validation/tWLO_stpt1_kin_norm.pkl.gz\", allow_empty=False)\n",
    "tWLO_stpt2 = utils.get_hist_from_pkl(\"/users/hnelson2/afs/ttbarEFT/analysis/mc_validation/tWLO_stpt2_kin_norm.pkl.gz\", allow_empty=False)"
   ]
  },
  {
   "cell_type": "code",
   "execution_count": 10,
   "id": "1b424ac1-9e8a-4e29-b60f-e6beddcf7756",
   "metadata": {},
   "outputs": [
    {
     "name": "stderr",
     "output_type": "stream",
     "text": [
      "/tmp/ipykernel_3800329/2819500801.py:20: RuntimeWarning: invalid value encountered in divide\n",
      "  ratio = np.divide(num, denomSM)\n",
      "/tmp/ipykernel_3800329/2819500801.py:8: RuntimeWarning: invalid value encountered in divide\n",
      "  ratio = np.divide(yvals_num, yvals_denom)\n",
      "/tmp/ipykernel_3800329/2819500801.py:12: RuntimeWarning: invalid value encountered in divide\n",
      "  sigma_y = np.multiply(np.abs(ratio), np.sqrt(np.add(np.square(np.divide(sigma_num, yvals_num)), np.square(np.divide(sigma_denom, yvals_denom)))))\n"
     ]
    },
    {
     "name": "stdout",
     "output_type": "stream",
     "text": [
      "plot saved to /users/hnelson2/afs/ttbarEFT/analysis/mc_validation/tW_plots/kinematics/tWLO_stpt1/njets.png\n",
      "plot saved to /users/hnelson2/afs/ttbarEFT/analysis/mc_validation/tW_plots/kinematics/tWLO_stpt1/nleps.png\n"
     ]
    },
    {
     "name": "stderr",
     "output_type": "stream",
     "text": [
      "/tmp/ipykernel_3800329/2819500801.py:20: RuntimeWarning: invalid value encountered in divide\n",
      "  ratio = np.divide(num, denomSM)\n",
      "/tmp/ipykernel_3800329/2819500801.py:8: RuntimeWarning: invalid value encountered in divide\n",
      "  ratio = np.divide(yvals_num, yvals_denom)\n",
      "/tmp/ipykernel_3800329/2819500801.py:12: RuntimeWarning: invalid value encountered in divide\n",
      "  sigma_y = np.multiply(np.abs(ratio), np.sqrt(np.add(np.square(np.divide(sigma_num, yvals_num)), np.square(np.divide(sigma_denom, yvals_denom)))))\n",
      "/tmp/ipykernel_3800329/2819500801.py:20: RuntimeWarning: invalid value encountered in divide\n",
      "  ratio = np.divide(num, denomSM)\n",
      "/tmp/ipykernel_3800329/2819500801.py:8: RuntimeWarning: invalid value encountered in divide\n",
      "  ratio = np.divide(yvals_num, yvals_denom)\n",
      "/tmp/ipykernel_3800329/2819500801.py:12: RuntimeWarning: invalid value encountered in divide\n",
      "  sigma_y = np.multiply(np.abs(ratio), np.sqrt(np.add(np.square(np.divide(sigma_num, yvals_num)), np.square(np.divide(sigma_denom, yvals_denom)))))\n"
     ]
    },
    {
     "name": "stdout",
     "output_type": "stream",
     "text": [
      "plot saved to /users/hnelson2/afs/ttbarEFT/analysis/mc_validation/tW_plots/kinematics/tWLO_stpt1/ntops.png\n",
      "plot saved to /users/hnelson2/afs/ttbarEFT/analysis/mc_validation/tW_plots/kinematics/tWLO_stpt1/mll.png\n"
     ]
    },
    {
     "name": "stderr",
     "output_type": "stream",
     "text": [
      "/tmp/ipykernel_3800329/2819500801.py:20: RuntimeWarning: invalid value encountered in divide\n",
      "  ratio = np.divide(num, denomSM)\n",
      "/tmp/ipykernel_3800329/2819500801.py:8: RuntimeWarning: invalid value encountered in divide\n",
      "  ratio = np.divide(yvals_num, yvals_denom)\n",
      "/tmp/ipykernel_3800329/2819500801.py:12: RuntimeWarning: invalid value encountered in divide\n",
      "  sigma_y = np.multiply(np.abs(ratio), np.sqrt(np.add(np.square(np.divide(sigma_num, yvals_num)), np.square(np.divide(sigma_denom, yvals_denom)))))\n",
      "/tmp/ipykernel_3800329/2819500801.py:20: RuntimeWarning: invalid value encountered in divide\n",
      "  ratio = np.divide(num, denomSM)\n",
      "/tmp/ipykernel_3800329/2819500801.py:8: RuntimeWarning: invalid value encountered in divide\n",
      "  ratio = np.divide(yvals_num, yvals_denom)\n",
      "/tmp/ipykernel_3800329/2819500801.py:12: RuntimeWarning: invalid value encountered in divide\n",
      "  sigma_y = np.multiply(np.abs(ratio), np.sqrt(np.add(np.square(np.divide(sigma_num, yvals_num)), np.square(np.divide(sigma_denom, yvals_denom)))))\n"
     ]
    },
    {
     "name": "stdout",
     "output_type": "stream",
     "text": [
      "plot saved to /users/hnelson2/afs/ttbarEFT/analysis/mc_validation/tW_plots/kinematics/tWLO_stpt1/dr_leps.png\n",
      "plot saved to /users/hnelson2/afs/ttbarEFT/analysis/mc_validation/tW_plots/kinematics/tWLO_stpt1/l0pt.png\n",
      "plot saved to /users/hnelson2/afs/ttbarEFT/analysis/mc_validation/tW_plots/kinematics/tWLO_stpt1/top_pt.png\n",
      "plot saved to /users/hnelson2/afs/ttbarEFT/analysis/mc_validation/tW_plots/kinematics/tWLO_stpt1/mt2.png\n",
      "plot saved to /users/hnelson2/afs/ttbarEFT/analysis/mc_validation/tW_plots/kinematics/tWLO_stpt1/mt2.png\n"
     ]
    }
   ],
   "source": [
    "#### Make plots for tWLO_stpt1 sample \n",
    "outpath = \"/users/hnelson2/afs/ttbarEFT/analysis/mc_validation/tW_plots/kinematics/tWLO_stpt1/\"\n",
    "for name in tWtop: \n",
    "    hpowheg = tWtop[name]+tWantitop[name]\n",
    "    hEFT = tWLO_stpt1[name]\n",
    "    fig, ax, rax = make_plot_with_ratio(hEFT, hpowheg, \"tW_EFT(stpt1)\", \"tW_powheg\", name, \"Reweighted to SM, normalized to 1.0\")\n",
    "    outname = os.path.join(outpath, f\"{name}.png\")    \n",
    "    fig.savefig(outname)\n",
    "    print(f'plot saved to {outname}')\n",
    "    plt.close(fig)\n",
    "\n",
    "# make mt2 plot with the right bounds for SM reweight point \n",
    "name='mt2'\n",
    "hpowheg = tWtop[name]+tWantitop[name]\n",
    "hEFT = tWLO_stpt1[name]\n",
    "fig, ax, rax = make_plot_with_ratio(hEFT, hpowheg, \"tW_EFT(stpt1)\", \"tW_powheg\", name, \"Reweighted to SM, normalized to 1.0\")\n",
    "ax.set_xlim([0,125])\n",
    "outname = os.path.join(outpath, f\"{name}.png\")    \n",
    "fig.savefig(outname)\n",
    "print(f'plot saved to {outname}')\n",
    "plt.close(fig)"
   ]
  },
  {
   "cell_type": "code",
   "execution_count": 11,
   "id": "07f66fc0-d1cd-48ed-a083-e9ff0fc46e94",
   "metadata": {},
   "outputs": [
    {
     "name": "stderr",
     "output_type": "stream",
     "text": [
      "/tmp/ipykernel_3800329/2819500801.py:20: RuntimeWarning: invalid value encountered in divide\n",
      "  ratio = np.divide(num, denomSM)\n",
      "/tmp/ipykernel_3800329/2819500801.py:8: RuntimeWarning: invalid value encountered in divide\n",
      "  ratio = np.divide(yvals_num, yvals_denom)\n",
      "/tmp/ipykernel_3800329/2819500801.py:12: RuntimeWarning: invalid value encountered in divide\n",
      "  sigma_y = np.multiply(np.abs(ratio), np.sqrt(np.add(np.square(np.divide(sigma_num, yvals_num)), np.square(np.divide(sigma_denom, yvals_denom)))))\n"
     ]
    },
    {
     "name": "stdout",
     "output_type": "stream",
     "text": [
      "plot saved to /users/hnelson2/afs/ttbarEFT/analysis/mc_validation/tW_plots/kinematics/tWLO_stpt2/njets.png\n",
      "plot saved to /users/hnelson2/afs/ttbarEFT/analysis/mc_validation/tW_plots/kinematics/tWLO_stpt2/nleps.png\n"
     ]
    },
    {
     "name": "stderr",
     "output_type": "stream",
     "text": [
      "/tmp/ipykernel_3800329/2819500801.py:20: RuntimeWarning: invalid value encountered in divide\n",
      "  ratio = np.divide(num, denomSM)\n",
      "/tmp/ipykernel_3800329/2819500801.py:8: RuntimeWarning: invalid value encountered in divide\n",
      "  ratio = np.divide(yvals_num, yvals_denom)\n",
      "/tmp/ipykernel_3800329/2819500801.py:12: RuntimeWarning: invalid value encountered in divide\n",
      "  sigma_y = np.multiply(np.abs(ratio), np.sqrt(np.add(np.square(np.divide(sigma_num, yvals_num)), np.square(np.divide(sigma_denom, yvals_denom)))))\n",
      "/tmp/ipykernel_3800329/2819500801.py:20: RuntimeWarning: invalid value encountered in divide\n",
      "  ratio = np.divide(num, denomSM)\n",
      "/tmp/ipykernel_3800329/2819500801.py:8: RuntimeWarning: invalid value encountered in divide\n",
      "  ratio = np.divide(yvals_num, yvals_denom)\n",
      "/tmp/ipykernel_3800329/2819500801.py:12: RuntimeWarning: invalid value encountered in divide\n",
      "  sigma_y = np.multiply(np.abs(ratio), np.sqrt(np.add(np.square(np.divide(sigma_num, yvals_num)), np.square(np.divide(sigma_denom, yvals_denom)))))\n"
     ]
    },
    {
     "name": "stdout",
     "output_type": "stream",
     "text": [
      "plot saved to /users/hnelson2/afs/ttbarEFT/analysis/mc_validation/tW_plots/kinematics/tWLO_stpt2/ntops.png\n",
      "plot saved to /users/hnelson2/afs/ttbarEFT/analysis/mc_validation/tW_plots/kinematics/tWLO_stpt2/mll.png\n"
     ]
    },
    {
     "name": "stderr",
     "output_type": "stream",
     "text": [
      "/tmp/ipykernel_3800329/2819500801.py:20: RuntimeWarning: invalid value encountered in divide\n",
      "  ratio = np.divide(num, denomSM)\n",
      "/tmp/ipykernel_3800329/2819500801.py:8: RuntimeWarning: invalid value encountered in divide\n",
      "  ratio = np.divide(yvals_num, yvals_denom)\n",
      "/tmp/ipykernel_3800329/2819500801.py:12: RuntimeWarning: invalid value encountered in divide\n",
      "  sigma_y = np.multiply(np.abs(ratio), np.sqrt(np.add(np.square(np.divide(sigma_num, yvals_num)), np.square(np.divide(sigma_denom, yvals_denom)))))\n",
      "/tmp/ipykernel_3800329/2819500801.py:20: RuntimeWarning: invalid value encountered in divide\n",
      "  ratio = np.divide(num, denomSM)\n",
      "/tmp/ipykernel_3800329/2819500801.py:8: RuntimeWarning: invalid value encountered in divide\n",
      "  ratio = np.divide(yvals_num, yvals_denom)\n",
      "/tmp/ipykernel_3800329/2819500801.py:12: RuntimeWarning: invalid value encountered in divide\n",
      "  sigma_y = np.multiply(np.abs(ratio), np.sqrt(np.add(np.square(np.divide(sigma_num, yvals_num)), np.square(np.divide(sigma_denom, yvals_denom)))))\n"
     ]
    },
    {
     "name": "stdout",
     "output_type": "stream",
     "text": [
      "plot saved to /users/hnelson2/afs/ttbarEFT/analysis/mc_validation/tW_plots/kinematics/tWLO_stpt2/dr_leps.png\n",
      "plot saved to /users/hnelson2/afs/ttbarEFT/analysis/mc_validation/tW_plots/kinematics/tWLO_stpt2/l0pt.png\n",
      "plot saved to /users/hnelson2/afs/ttbarEFT/analysis/mc_validation/tW_plots/kinematics/tWLO_stpt2/top_pt.png\n",
      "plot saved to /users/hnelson2/afs/ttbarEFT/analysis/mc_validation/tW_plots/kinematics/tWLO_stpt2/mt2.png\n",
      "plot saved to /users/hnelson2/afs/ttbarEFT/analysis/mc_validation/tW_plots/kinematics/tWLO_stpt2/mt2.png\n"
     ]
    }
   ],
   "source": [
    "#### Make plots for tWLO_stpt2 sample \n",
    "outpath = \"/users/hnelson2/afs/ttbarEFT/analysis/mc_validation/tW_plots/kinematics/tWLO_stpt2/\"\n",
    "for name in tWtop: \n",
    "    hpowheg = tWtop[name]+tWantitop[name]\n",
    "    hEFT = tWLO_stpt2[name]\n",
    "    fig, ax, rax = make_plot_with_ratio(hEFT, hpowheg, \"tW_EFT(stpt2)\", \"tW_powheg\", name, \"Reweighted to SM, normalized to 1.0\")\n",
    "    outname = os.path.join(outpath, f\"{name}.png\")    \n",
    "    fig.savefig(outname)\n",
    "    print(f'plot saved to {outname}')\n",
    "    plt.close(fig)\n",
    "\n",
    "# make mt2 plot with the right bounds for SM reweight point \n",
    "name='mt2'\n",
    "hpowheg = tWtop[name]+tWantitop[name]\n",
    "hEFT = tWLO_stpt2[name]\n",
    "fig, ax, rax = make_plot_with_ratio(hEFT, hpowheg, \"tW_EFT(stpt2)\", \"tW_powheg\", name, \"Reweighted to SM, normalized to 1.0\")\n",
    "ax.set_xlim([0,125])\n",
    "outname = os.path.join(outpath, f\"{name}.png\")    \n",
    "fig.savefig(outname)\n",
    "print(f'plot saved to {outname}')\n",
    "plt.close(fig)"
   ]
  },
  {
   "cell_type": "code",
   "execution_count": 46,
   "id": "4f93648e-c22b-4b8a-b38f-71f93c4d5ca0",
   "metadata": {},
   "outputs": [
    {
     "name": "stderr",
     "output_type": "stream",
     "text": [
      "/tmp/ipykernel_3800329/742058656.py:20: RuntimeWarning: invalid value encountered in divide\n",
      "  ratio = np.divide(num, denomSM)\n",
      "/tmp/ipykernel_3800329/742058656.py:8: RuntimeWarning: invalid value encountered in divide\n",
      "  ratio = np.divide(yvals_num, yvals_denom)\n",
      "/tmp/ipykernel_3800329/742058656.py:12: RuntimeWarning: invalid value encountered in divide\n",
      "  sigma_y = np.multiply(np.abs(ratio), np.sqrt(np.add(np.square(np.divide(sigma_num, yvals_num)), np.square(np.divide(sigma_denom, yvals_denom)))))\n",
      "/tmp/ipykernel_3800329/742058656.py:20: RuntimeWarning: invalid value encountered in divide\n",
      "  ratio = np.divide(num, denomSM)\n",
      "/tmp/ipykernel_3800329/742058656.py:8: RuntimeWarning: invalid value encountered in divide\n",
      "  ratio = np.divide(yvals_num, yvals_denom)\n",
      "/tmp/ipykernel_3800329/742058656.py:12: RuntimeWarning: invalid value encountered in divide\n",
      "  sigma_y = np.multiply(np.abs(ratio), np.sqrt(np.add(np.square(np.divide(sigma_num, yvals_num)), np.square(np.divide(sigma_denom, yvals_denom)))))\n",
      "/tmp/ipykernel_3800329/742058656.py:20: RuntimeWarning: invalid value encountered in divide\n",
      "  ratio = np.divide(num, denomSM)\n",
      "/tmp/ipykernel_3800329/742058656.py:8: RuntimeWarning: invalid value encountered in divide\n",
      "  ratio = np.divide(yvals_num, yvals_denom)\n",
      "/tmp/ipykernel_3800329/742058656.py:12: RuntimeWarning: invalid value encountered in divide\n",
      "  sigma_y = np.multiply(np.abs(ratio), np.sqrt(np.add(np.square(np.divide(sigma_num, yvals_num)), np.square(np.divide(sigma_denom, yvals_denom)))))\n",
      "/tmp/ipykernel_3800329/742058656.py:20: RuntimeWarning: invalid value encountered in divide\n",
      "  ratio = np.divide(num, denomSM)\n",
      "/tmp/ipykernel_3800329/742058656.py:8: RuntimeWarning: invalid value encountered in divide\n",
      "  ratio = np.divide(yvals_num, yvals_denom)\n",
      "/tmp/ipykernel_3800329/742058656.py:12: RuntimeWarning: invalid value encountered in divide\n",
      "  sigma_y = np.multiply(np.abs(ratio), np.sqrt(np.add(np.square(np.divide(sigma_num, yvals_num)), np.square(np.divide(sigma_denom, yvals_denom)))))\n",
      "/tmp/ipykernel_3800329/742058656.py:20: RuntimeWarning: invalid value encountered in divide\n",
      "  ratio = np.divide(num, denomSM)\n",
      "/tmp/ipykernel_3800329/742058656.py:8: RuntimeWarning: invalid value encountered in divide\n",
      "  ratio = np.divide(yvals_num, yvals_denom)\n",
      "/tmp/ipykernel_3800329/742058656.py:12: RuntimeWarning: invalid value encountered in divide\n",
      "  sigma_y = np.multiply(np.abs(ratio), np.sqrt(np.add(np.square(np.divide(sigma_num, yvals_num)), np.square(np.divide(sigma_denom, yvals_denom)))))\n"
     ]
    }
   ],
   "source": [
    "#### Make plots for tWLO_stpt2 sample \n",
    "# outpath = \"/users/hnelson2/afs/ttbarEFT/analysis/mc_validation/tW_plots/kinematics/tWLO_stpt2/\"\n",
    "for name in tWtop: \n",
    "    hpowheg = tWtop[name]+tWantitop[name]\n",
    "    hEFT1 = tWLO_stpt1[name]\n",
    "    hEFT2 = tWLO_stpt2[name]\n",
    "    fig, ax, rax = make_plot_2samples_with_ratio(hEFT1, hEFT2, hpowheg, \"tW_EFT(stpt1)\", \"tW_EFT(stpt2)\", \"tW_powheg\", name, \"Reweighted to SM, normalized to 1.0\" )\n",
    "    # outname = os.path.join(outpath, f\"{name}.png\")    \n",
    "    # fig.savefig(outname)\n",
    "    # print(f'plot saved to {outname}')\n",
    "    plt.close(fig)"
   ]
  },
  {
   "cell_type": "markdown",
   "id": "67cbb782-2e7a-43b4-ba23-6068b2fc3617",
   "metadata": {},
   "source": [
    "# Kinematic Plots"
   ]
  },
  {
   "cell_type": "code",
   "execution_count": 48,
   "id": "36c3457e-10e1-4a6a-8ac5-8ab937a58bd3",
   "metadata": {},
   "outputs": [],
   "source": [
    "tWLO_stpt1_histEFT = utils.get_hist_from_pkl(\"/users/hnelson2/afs/ttbarEFT/analysis/mc_validation/tWLO_stpt1_histEFT.pkl.gz\", allow_empty=False)\n",
    "tWLO_stpt2_histEFT = utils.get_hist_from_pkl(\"/users/hnelson2/afs/ttbarEFT/analysis/mc_validation/tWLO_stpt2_histEFT.pkl.gz\", allow_empty=False)\n",
    "\n",
    "tWLO_stpt1_hist_rwgt1 = utils.get_hist_from_pkl(\"/users/hnelson2/afs/ttbarEFT/analysis/mc_validation/tWLO_stpt1_hist_rwgt1.pkl.gz\", allow_empty=False)\n",
    "tWLO_stpt2_hist_rwgt1 = utils.get_hist_from_pkl(\"/users/hnelson2/afs/ttbarEFT/analysis/mc_validation/tWLO_stpt2_hist_rwgt1.pkl.gz\", allow_empty=False)\n",
    "\n",
    "tWLO_stpt1_hist_rwgt2 = utils.get_hist_from_pkl(\"/users/hnelson2/afs/ttbarEFT/analysis/mc_validation/tWLO_stpt1_hist_rwgt2.pkl.gz\", allow_empty=False)\n",
    "tWLO_stpt2_hist_rwgt2 = utils.get_hist_from_pkl(\"/users/hnelson2/afs/ttbarEFT/analysis/mc_validation/tWLO_stpt2_hist_rwgt2.pkl.gz\", allow_empty=False)"
   ]
  },
  {
   "cell_type": "code",
   "execution_count": 13,
   "id": "c2a5498e-498f-4e6e-a1a3-e162aea0970a",
   "metadata": {},
   "outputs": [],
   "source": [
    "# starting point of tWLO_rwgt1 sample\n",
    "rwgt1 = {\"ctGIm\": -0.2, \"ctGRe\":-0.2, \"cHQ3\": 1.5, \"ctWRe\": -1.0, \"cbWRe\": -10.0, \"cHtbRe\": 4.0,\n",
    "         \"cQl311\": 4.0, \"cQl322\": 4.1, \"cQl333\": 4.2,\n",
    "         \"cleQt3Re11\": 12.0, \"cleQt3Re22\": 12.1, \"cleQt3Re33\": 12.2,\n",
    "         \"cleQt1Re11\": 15.0, \"cleQt1Re22\": 15.1, \"cleQt1Re33\": 15.2}\n",
    "\n",
    "# starting point of tWLO_rwgt2 sample\n",
    "rwgt2 = {\"ctGIm\": -0.5, \"ctGRe\":-0.5, \"cHQ3\": 1.5, \"ctWRe\": -1.0, \"cbWRe\": -8.0, \"cHtbRe\": 4.0,\n",
    "         \"cQl311\": 8.0, \"cQl322\": 8.0, \"cQl333\": 8.0,\n",
    "         \"cleQt3Re11\": 12.0, \"cleQt3Re22\": 12.0, \"cleQt3Re33\": 12.0,\n",
    "         \"cleQt1Re11\": 15.0, \"cleQt1Re22\": 15.0, \"cleQt1Re33\": 15.0}"
   ]
  },
  {
   "cell_type": "markdown",
   "id": "7fc57c51-a42c-459e-90e4-c95027fb24ff",
   "metadata": {},
   "source": [
    "## Comparing the two produced samples (different starting points)"
   ]
  },
  {
   "cell_type": "markdown",
   "id": "3023b3fa-7bb8-4b2e-ada5-1865936656e2",
   "metadata": {},
   "source": [
    "### HistEFT plots "
   ]
  },
  {
   "cell_type": "code",
   "execution_count": 47,
   "id": "ed873bb0-fa97-47d9-826b-2b0df868edc6",
   "metadata": {},
   "outputs": [],
   "source": [
    "for name in tWLO_stpt1_histEFT:\n",
    "    h1 = tWLO_stpt1_histEFT[name].as_hist(rwgt1)\n",
    "    h2 = tWLO_stpt2_histEFT[name].as_hist(rwgt1)\n",
    "    \n",
    "    fig, ax = plt.subplots()\n",
    "    h1.plot1d(ax=ax, stack=False, yerr=False, linewidth=2, label=\"Sample1\")\n",
    "    h2.plot1d(ax=ax, stack=False, yerr=False, linewidth=2, label=\"Sample2\")\n",
    "\n",
    "    ## Formatting\n",
    "    ax.legend(loc = 'upper right', fontsize = 'medium')\n",
    "    ax.set_ylabel(\"Events\", fontsize='medium')\n",
    "    plt.figtext(0.13, 0.9, \"Reweighted to Starting Point of Sample1\", fontsize='small')\n",
    "    \n",
    "    plt.close(fig)"
   ]
  },
  {
   "cell_type": "markdown",
   "id": "b3c708ed-82d9-41f4-9a7e-6495eb382e9d",
   "metadata": {},
   "source": [
    "### Hist Plots with stat uncertainty"
   ]
  },
  {
   "cell_type": "code",
   "execution_count": 57,
   "id": "b0c6d620-3c60-4009-b30c-257db7ef08f2",
   "metadata": {},
   "outputs": [
    {
     "name": "stderr",
     "output_type": "stream",
     "text": [
      "/tmp/ipykernel_3800329/742058656.py:20: RuntimeWarning: invalid value encountered in divide\n",
      "  ratio = np.divide(num, denomSM)\n",
      "/tmp/ipykernel_3800329/742058656.py:8: RuntimeWarning: invalid value encountered in divide\n",
      "  ratio = np.divide(yvals_num, yvals_denom)\n",
      "/tmp/ipykernel_3800329/742058656.py:12: RuntimeWarning: invalid value encountered in divide\n",
      "  sigma_y = np.multiply(np.abs(ratio), np.sqrt(np.add(np.square(np.divide(sigma_num, yvals_num)), np.square(np.divide(sigma_denom, yvals_denom)))))\n",
      "/tmp/ipykernel_3800329/742058656.py:20: RuntimeWarning: invalid value encountered in divide\n",
      "  ratio = np.divide(num, denomSM)\n",
      "/tmp/ipykernel_3800329/742058656.py:8: RuntimeWarning: invalid value encountered in divide\n",
      "  ratio = np.divide(yvals_num, yvals_denom)\n",
      "/tmp/ipykernel_3800329/742058656.py:12: RuntimeWarning: invalid value encountered in divide\n",
      "  sigma_y = np.multiply(np.abs(ratio), np.sqrt(np.add(np.square(np.divide(sigma_num, yvals_num)), np.square(np.divide(sigma_denom, yvals_denom)))))\n"
     ]
    },
    {
     "name": "stdout",
     "output_type": "stream",
     "text": [
      "plot saved to /users/hnelson2/afs/ttbarEFT/analysis/mc_validation/tW_plots/kinematics/tWLO_rwgt1/njets.png\n",
      "plot saved to /users/hnelson2/afs/ttbarEFT/analysis/mc_validation/tW_plots/kinematics/tWLO_rwgt1/nleps.png\n"
     ]
    },
    {
     "name": "stderr",
     "output_type": "stream",
     "text": [
      "/tmp/ipykernel_3800329/742058656.py:20: RuntimeWarning: invalid value encountered in divide\n",
      "  ratio = np.divide(num, denomSM)\n",
      "/tmp/ipykernel_3800329/742058656.py:8: RuntimeWarning: invalid value encountered in divide\n",
      "  ratio = np.divide(yvals_num, yvals_denom)\n",
      "/tmp/ipykernel_3800329/742058656.py:12: RuntimeWarning: invalid value encountered in divide\n",
      "  sigma_y = np.multiply(np.abs(ratio), np.sqrt(np.add(np.square(np.divide(sigma_num, yvals_num)), np.square(np.divide(sigma_denom, yvals_denom)))))\n"
     ]
    },
    {
     "name": "stdout",
     "output_type": "stream",
     "text": [
      "plot saved to /users/hnelson2/afs/ttbarEFT/analysis/mc_validation/tW_plots/kinematics/tWLO_rwgt1/ntops.png\n",
      "plot saved to /users/hnelson2/afs/ttbarEFT/analysis/mc_validation/tW_plots/kinematics/tWLO_rwgt1/mll.png\n"
     ]
    },
    {
     "name": "stderr",
     "output_type": "stream",
     "text": [
      "/tmp/ipykernel_3800329/742058656.py:20: RuntimeWarning: invalid value encountered in divide\n",
      "  ratio = np.divide(num, denomSM)\n",
      "/tmp/ipykernel_3800329/742058656.py:8: RuntimeWarning: invalid value encountered in divide\n",
      "  ratio = np.divide(yvals_num, yvals_denom)\n",
      "/tmp/ipykernel_3800329/742058656.py:12: RuntimeWarning: invalid value encountered in divide\n",
      "  sigma_y = np.multiply(np.abs(ratio), np.sqrt(np.add(np.square(np.divide(sigma_num, yvals_num)), np.square(np.divide(sigma_denom, yvals_denom)))))\n"
     ]
    },
    {
     "name": "stdout",
     "output_type": "stream",
     "text": [
      "plot saved to /users/hnelson2/afs/ttbarEFT/analysis/mc_validation/tW_plots/kinematics/tWLO_rwgt1/dr_leps.png\n"
     ]
    },
    {
     "name": "stderr",
     "output_type": "stream",
     "text": [
      "/tmp/ipykernel_3800329/742058656.py:20: RuntimeWarning: invalid value encountered in divide\n",
      "  ratio = np.divide(num, denomSM)\n",
      "/tmp/ipykernel_3800329/742058656.py:8: RuntimeWarning: invalid value encountered in divide\n",
      "  ratio = np.divide(yvals_num, yvals_denom)\n",
      "/tmp/ipykernel_3800329/742058656.py:12: RuntimeWarning: invalid value encountered in divide\n",
      "  sigma_y = np.multiply(np.abs(ratio), np.sqrt(np.add(np.square(np.divide(sigma_num, yvals_num)), np.square(np.divide(sigma_denom, yvals_denom)))))\n"
     ]
    },
    {
     "name": "stdout",
     "output_type": "stream",
     "text": [
      "plot saved to /users/hnelson2/afs/ttbarEFT/analysis/mc_validation/tW_plots/kinematics/tWLO_rwgt1/l0pt.png\n",
      "plot saved to /users/hnelson2/afs/ttbarEFT/analysis/mc_validation/tW_plots/kinematics/tWLO_rwgt1/top_pt.png\n",
      "plot saved to /users/hnelson2/afs/ttbarEFT/analysis/mc_validation/tW_plots/kinematics/tWLO_rwgt1/mt2.png\n"
     ]
    },
    {
     "name": "stderr",
     "output_type": "stream",
     "text": [
      "/tmp/ipykernel_3800329/742058656.py:20: RuntimeWarning: invalid value encountered in divide\n",
      "  ratio = np.divide(num, denomSM)\n",
      "/tmp/ipykernel_3800329/742058656.py:8: RuntimeWarning: invalid value encountered in divide\n",
      "  ratio = np.divide(yvals_num, yvals_denom)\n",
      "/tmp/ipykernel_3800329/742058656.py:12: RuntimeWarning: invalid value encountered in divide\n",
      "  sigma_y = np.multiply(np.abs(ratio), np.sqrt(np.add(np.square(np.divide(sigma_num, yvals_num)), np.square(np.divide(sigma_denom, yvals_denom)))))\n",
      "/tmp/ipykernel_3800329/742058656.py:20: RuntimeWarning: invalid value encountered in divide\n",
      "  ratio = np.divide(num, denomSM)\n",
      "/tmp/ipykernel_3800329/742058656.py:8: RuntimeWarning: invalid value encountered in divide\n",
      "  ratio = np.divide(yvals_num, yvals_denom)\n",
      "/tmp/ipykernel_3800329/742058656.py:12: RuntimeWarning: invalid value encountered in divide\n",
      "  sigma_y = np.multiply(np.abs(ratio), np.sqrt(np.add(np.square(np.divide(sigma_num, yvals_num)), np.square(np.divide(sigma_denom, yvals_denom)))))\n"
     ]
    },
    {
     "name": "stdout",
     "output_type": "stream",
     "text": [
      "plot saved to /users/hnelson2/afs/ttbarEFT/analysis/mc_validation/tW_plots/kinematics/tWLO_rwgt2/njets.png\n",
      "plot saved to /users/hnelson2/afs/ttbarEFT/analysis/mc_validation/tW_plots/kinematics/tWLO_rwgt2/nleps.png\n"
     ]
    },
    {
     "name": "stderr",
     "output_type": "stream",
     "text": [
      "/tmp/ipykernel_3800329/742058656.py:20: RuntimeWarning: invalid value encountered in divide\n",
      "  ratio = np.divide(num, denomSM)\n",
      "/tmp/ipykernel_3800329/742058656.py:8: RuntimeWarning: invalid value encountered in divide\n",
      "  ratio = np.divide(yvals_num, yvals_denom)\n",
      "/tmp/ipykernel_3800329/742058656.py:12: RuntimeWarning: invalid value encountered in divide\n",
      "  sigma_y = np.multiply(np.abs(ratio), np.sqrt(np.add(np.square(np.divide(sigma_num, yvals_num)), np.square(np.divide(sigma_denom, yvals_denom)))))\n"
     ]
    },
    {
     "name": "stdout",
     "output_type": "stream",
     "text": [
      "plot saved to /users/hnelson2/afs/ttbarEFT/analysis/mc_validation/tW_plots/kinematics/tWLO_rwgt2/ntops.png\n",
      "plot saved to /users/hnelson2/afs/ttbarEFT/analysis/mc_validation/tW_plots/kinematics/tWLO_rwgt2/mll.png\n"
     ]
    },
    {
     "name": "stderr",
     "output_type": "stream",
     "text": [
      "/tmp/ipykernel_3800329/742058656.py:20: RuntimeWarning: invalid value encountered in divide\n",
      "  ratio = np.divide(num, denomSM)\n",
      "/tmp/ipykernel_3800329/742058656.py:8: RuntimeWarning: invalid value encountered in divide\n",
      "  ratio = np.divide(yvals_num, yvals_denom)\n",
      "/tmp/ipykernel_3800329/742058656.py:12: RuntimeWarning: invalid value encountered in divide\n",
      "  sigma_y = np.multiply(np.abs(ratio), np.sqrt(np.add(np.square(np.divide(sigma_num, yvals_num)), np.square(np.divide(sigma_denom, yvals_denom)))))\n"
     ]
    },
    {
     "name": "stdout",
     "output_type": "stream",
     "text": [
      "plot saved to /users/hnelson2/afs/ttbarEFT/analysis/mc_validation/tW_plots/kinematics/tWLO_rwgt2/dr_leps.png\n",
      "plot saved to /users/hnelson2/afs/ttbarEFT/analysis/mc_validation/tW_plots/kinematics/tWLO_rwgt2/l0pt.png\n"
     ]
    },
    {
     "name": "stderr",
     "output_type": "stream",
     "text": [
      "/tmp/ipykernel_3800329/742058656.py:20: RuntimeWarning: invalid value encountered in divide\n",
      "  ratio = np.divide(num, denomSM)\n",
      "/tmp/ipykernel_3800329/742058656.py:8: RuntimeWarning: invalid value encountered in divide\n",
      "  ratio = np.divide(yvals_num, yvals_denom)\n",
      "/tmp/ipykernel_3800329/742058656.py:12: RuntimeWarning: invalid value encountered in divide\n",
      "  sigma_y = np.multiply(np.abs(ratio), np.sqrt(np.add(np.square(np.divide(sigma_num, yvals_num)), np.square(np.divide(sigma_denom, yvals_denom)))))\n"
     ]
    },
    {
     "name": "stdout",
     "output_type": "stream",
     "text": [
      "plot saved to /users/hnelson2/afs/ttbarEFT/analysis/mc_validation/tW_plots/kinematics/tWLO_rwgt2/top_pt.png\n",
      "plot saved to /users/hnelson2/afs/ttbarEFT/analysis/mc_validation/tW_plots/kinematics/tWLO_rwgt2/mt2.png\n"
     ]
    }
   ],
   "source": [
    "outpath = \"/users/hnelson2/afs/ttbarEFT/analysis/mc_validation/tW_plots/kinematics/tWLO_rwgt1/\"\n",
    "for name in tWLO_stpt1_hist_rwgt1:\n",
    "    h1 = tWLO_stpt1_hist_rwgt1[name]\n",
    "    h2 = tWLO_stpt2_hist_rwgt1[name]\n",
    "    \n",
    "    fig, ax, rax = make_plot_with_ratio(h2, h1, \"Sample2\", \"Sample1\", name, \"Reweighted to Starting Point of Sample1\")\n",
    "    rax.set_ylabel(\"Ratio (s2/s1)\")\n",
    "    \n",
    "    outname = os.path.join(outpath, f\"{name}.png\")    \n",
    "    fig.savefig(outname)\n",
    "    print(f'plot saved to {outname}')\n",
    "    plt.close(fig)\n",
    "    \n",
    "outpath = \"/users/hnelson2/afs/ttbarEFT/analysis/mc_validation/tW_plots/kinematics/tWLO_rwgt2/\"\n",
    "for name in tWLO_stpt1_hist_rwgt2:\n",
    "    h1 = tWLO_stpt1_hist_rwgt2[name]\n",
    "    h2 = tWLO_stpt2_hist_rwgt2[name]\n",
    "    \n",
    "    fig, ax, rax = make_plot_with_ratio(h1, h2, \"Sample1\", \"Sample2\", name, \"Reweighted to Starting Point of Sample2\")\n",
    "    rax.set_ylabel(\"Ratio (s1/s2)\")\n",
    "    \n",
    "    outname = os.path.join(outpath, f\"{name}.png\")    \n",
    "    fig.savefig(outname)\n",
    "    print(f'plot saved to {outname}')\n",
    "    plt.close(fig)"
   ]
  },
  {
   "cell_type": "markdown",
   "id": "8b67a2c6-e682-4c89-8b20-d72309a10215",
   "metadata": {},
   "source": [
    "## mT2 plots reweighted"
   ]
  },
  {
   "cell_type": "code",
   "execution_count": 27,
   "id": "143fd80c-39cc-4be1-b4c9-233250a00d36",
   "metadata": {},
   "outputs": [
    {
     "data": {
      "text/plain": [
       "<matplotlib.lines.Line2D at 0x7fbe617a20b0>"
      ]
     },
     "execution_count": 27,
     "metadata": {},
     "output_type": "execute_result"
    },
    {
     "data": {
      "image/png": "[encoded data removed]",
      "text/plain": [
       "<Figure size 1000x1200 with 2 Axes>"
      ]
     },
     "metadata": {},
     "output_type": "display_data"
    }
   ],
   "source": [
    "outpath = \"/users/hnelson2/afs/ttbarEFT/analysis/mc_validation/tW_plots/kinematics/\"\n",
    "\n",
    "name='mt2'\n",
    "h1 = tWLO_stpt1_histEFT[name].as_hist({})\n",
    "h2 = tWLO_stpt1_histEFT[name].as_hist({'cQl333':10})\n",
    "h3 = tWLO_stpt1_histEFT[name].as_hist({'cleQt3Re33':10})\n",
    "h4 = tWLO_stpt1_histEFT[name].as_hist({'cleQt1Re33':10})\n",
    "\n",
    "bin_widths = h1.axes[1].edges\n",
    "\n",
    "val_SM = h1.values()[0]\n",
    "ratioSM = h1.values()[0]/val_SM\n",
    "ratio2 = h2.values()[0]/val_SM\n",
    "ratio3 = h3.values()[0]/val_SM\n",
    "ratio4 = h4.values()[0]/val_SM\n",
    "\n",
    "fig, (ax, rax) = plt.subplots(\n",
    "    nrows=2,\n",
    "    ncols=1,\n",
    "    figsize=(10,12),\n",
    "    gridspec_kw={\"height_ratios\": (3, 1)},\n",
    "    sharex=True\n",
    ")\n",
    "fig.subplots_adjust(hspace=.1)\n",
    "\n",
    "h1.plot1d(histtype=\"step\", ax=ax, stack=False, yerr=False, label=\"SM\", color=\"black\")\n",
    "h2.plot1d(histtype=\"step\", ax=ax, stack=False, yerr=False, label=\"cQl333=10\", color=\"red\")\n",
    "h3.plot1d(histtype=\"step\", ax=ax, stack=False, yerr=False, label=\"cleQt3Re33=10\", color=\"blue\")\n",
    "h4.plot1d(histtype=\"step\", ax=ax, stack=False, yerr=False, label=\"cleQt1Re33=10\", color=\"green\")\n",
    "\n",
    "# hep.histplot(ratioSM, bin_widths, ax=rax)\n",
    "hep.histplot(ratio2, bin_widths, ax=rax, color=\"red\")\n",
    "hep.histplot(ratio3, bin_widths, ax=rax, color=\"blue\")\n",
    "hep.histplot(ratio4, bin_widths, ax=rax, color=\"green\")\n",
    "\n",
    "ax.legend(loc='upper right', fontsize=16)\n",
    "ax.set_yscale('log')\n",
    "ax.set_ylabel('Events/Bin', fontsize=\"medium\")\n",
    "ax.set_xlabel('')\n",
    "rax.set_ylabel(\"EFT/SM\", fontsize='medium')\n",
    "rax.set_xlabel(\"mt2 [GeV]\", fontsize=\"medium\")\n",
    "rax.set_ylim([0,13])\n",
    "rax.axhline(y=5.0, color='gray', linestyle='--')\n",
    "rax.axhline(y=10.0, color='gray', linestyle='--')\n",
    "\n",
    "# outname = os.path.join(outpath, f\"mt2.png\")    \n",
    "# fig.savefig(outname)\n",
    "# print(f'plot saved to {outname}')\n",
    "# fig.show()"
   ]
  },
  {
   "cell_type": "raw",
   "id": "6bfa887d-8051-4be5-8532-4c1a186145d1",
   "metadata": {},
   "source": [
    "\"\"\"\n",
    "Create a dictionary of histograms that are two existing histEFTs summed together bin-wise. \n",
    "The StrCategory axis is not saved. \n",
    "\"\"\"\n",
    "powheg_SM_hists = {}\n",
    "\n",
    "rwgt = {}\n",
    "for name in tWtop_powheg_kin: \n",
    "    # save the 2 powheg histEFTs at the SM point\n",
    "    h1 = tWtop_powheg_kin[name].as_hist(rwgt) \n",
    "    h2 = tWantitop_powheg_kin[name].as_hist(rwgt)\n",
    "    # require the axes (regular axis) are identical between h1 and h2\n",
    "    assert h1.axes[1] == h2.axes[1], f\"Axes are different. h1.axes[1] = {h1.axes[1]}, h2.axes[2]={h2.axes[1]}\"\n",
    "    # save the axis from one of the histograms (from above, they are identical between the two) \n",
    "    ax1 = h1.axes[1]\n",
    "    # save the bin values for each histogram\n",
    "    val1 = h1.values()\n",
    "    val2 = h2.values() \n",
    "    # add val1 and val2 together such that the result is the corresponding bins from h1 and h2 added \n",
    "    sum1 = np.sum([val1, val2], axis=0)\n",
    "    # get the number of bins in the original historgam (different for different variables) \n",
    "    nbins = len(ax1.widths)\n",
    "\n",
    "    # create new, empty histogram with the \n",
    "    h_temp = hist.Hist(ax1)\n",
    "    h_temp[0:nbins]=sum1[0]\n",
    "\n",
    "    powheg_SM_hists[name]=h_temp"
   ]
  },
  {
   "cell_type": "markdown",
   "id": "6b9d07a9-dbef-46da-9419-e07ec8748ec8",
   "metadata": {},
   "source": [
    "# 1D Quad EFT Parameterization Plots"
   ]
  },
  {
   "cell_type": "code",
   "execution_count": null,
   "id": "a199a828-0d3c-4f32-ba15-dc0aea38d733",
   "metadata": {},
   "outputs": [],
   "source": [
    "import ttbarEFT.modules.plotting_tools_histEFT as plotTools\n",
    "import os"
   ]
  },
  {
   "cell_type": "code",
   "execution_count": null,
   "id": "86047a08-af74-48a2-a8b3-fe8e03c8c7c5",
   "metadata": {},
   "outputs": [],
   "source": [
    "standAlone = plotTools.read_MGstandalone_txt(\"/users/hnelson2/afs/mc_production/standAloneMG/tW_SMEFTsim_top_xsec.txt\")"
   ]
  },
  {
   "cell_type": "code",
   "execution_count": null,
   "id": "8d95690e-e3f8-4ed1-8724-fc3c003d32f4",
   "metadata": {},
   "outputs": [],
   "source": [
    "def make_scatter_list_oneWC(scatter_dict, norm, norm_uncert):\n",
    "\t'''\n",
    "\tscatter_dict must be a single entry dictionary, with only the information for a single WC\n",
    "\t'''\n",
    "\tscatter_xvals = scatter_dict[0]\n",
    "\tscatter_yvals = np.divide(np.array(scatter_dict[1]), norm)\n",
    "\tscatter_sigma = np.array(scatter_dict[2])\n",
    "\tsigma_y = np.multiply(scatter_yvals, (np.sqrt(np.add(np.square(np.divide(scatter_sigma, scatter_dict[1])),np.square(np.divide(norm_uncert, norm))))))\n",
    "\n",
    "\treturn [scatter_xvals, scatter_yvals, sigma_y]"
   ]
  },
  {
   "cell_type": "code",
   "execution_count": null,
   "id": "fc7a3e82-099f-49e0-8270-98101d0b6ee3",
   "metadata": {},
   "outputs": [],
   "source": [
    "def make_samples_dict(file, wc_name, sample_names=None, hist_name='sow_norm', wc_max=6.0):\n",
    "\t\n",
    "    samples = {}\n",
    "\n",
    "    # for fname in files: \n",
    "    #     if sample_names is not None:\n",
    "    #         label = sample_names[fname]\n",
    "    #     elif fname.endswith('.pkl.gz'):\n",
    "    #         label = fname[:-7]\n",
    "    #     else: \n",
    "    #         label = fname\n",
    "\n",
    "    if wc_name == 'ctGRe' or wc_name == 'ctGIm':\n",
    "        wc_range = np.arange(-1.5, 1.5, 0.2)\n",
    "    else:\n",
    "        wc_range = np.arange(-wc_max, wc_max+0.5, 0.5)\n",
    "    h = plotTools.get_single_hist(file, hist_name)\n",
    "    norm = h.as_hist({}).values()[0] #get SM xsec of the sample and use this for normalization\n",
    "    weights = plotTools.calc_sow_array(h, wc_range, wc_name)\n",
    "\n",
    "    if norm != 1.0:\n",
    "        weights[1] = np.divide(weights[1], norm)\n",
    "\n",
    "    # samples[label] = weights\n",
    "\n",
    "    # return samples\n",
    "    return weights"
   ]
  },
  {
   "cell_type": "markdown",
   "id": "3da9193b-f8ba-4d8e-9885-a0ed62a9c442",
   "metadata": {},
   "source": [
    "## Comparing calculated vs reweighted xsecs"
   ]
  },
  {
   "cell_type": "code",
   "execution_count": null,
   "id": "2dd6dbd3-f096-49ea-a2cc-127451bf5886",
   "metadata": {},
   "outputs": [],
   "source": [
    "# savedir = \"/afs/crc.nd.edu/user/h/hnelson2/www/tW_plots/April17/1d_quad_small/\"\n",
    "\n",
    "tWLO_stpt1_sow = \"/users/hnelson2/afs/ttbarEFT/analysis/mc_validation/TTto2L2Nu_stpt1_sow.pkl.gz\"\n",
    "tWLO_stpt2_sow = \"/users/hnelson2/afs/ttbarEFT/analysis/mc_validation/TTto2L2Nu_stpt2_sow.pkl.gz\"\n",
    "\n",
    "standAlone = plotTools.read_MGstandalone_txt(\"/users/hnelson2/afs/mc_production/standAloneMG/tW_SMEFTsim_top_xsec.txt\")"
   ]
  },
  {
   "cell_type": "code",
   "execution_count": null,
   "id": "28092b7b-d2ee-4141-ae5d-fa16cbaca5f9",
   "metadata": {},
   "outputs": [],
   "source": [
    "savedir = \"/users/hnelson2/afs/ttbarEFT/analysis/mc_validation/tW_plots/1dquad/\"\n",
    "for wc in standAlone.keys():\n",
    "    stpt1_dict = make_samples_dict(file=tWLO_stpt1_sow, wc_name=wc, wc_max=10.0)\n",
    "    stpt2_dict = make_samples_dict(file=tWLO_stpt2_sow, wc_name=wc, wc_max=10.0)\n",
    "    \n",
    "    # standalone_dict = make_scatter_list_oneWC(standAlone[wc], 5.63, 0.01903)\n",
    "    standalone_dict = make_scatter_list_oneWC(standAlone[wc], 5.626, 0.02046)\n",
    "    \n",
    "    fig, ax = plt.subplots()\n",
    "    ax.scatter(standalone_dict[0], standalone_dict[1], label = \"MG standalone\")\n",
    "    ax.errorbar(standalone_dict[0], standalone_dict[1], yerr = standalone_dict[2], xerr = None, capsize=5, ls='none')\n",
    "    ax.plot(stpt1_dict[0], stpt1_dict[1], label=\"stpt1\")\n",
    "    ax.plot(stpt2_dict[0], stpt2_dict[1], label=\"stpt2\")\n",
    "\n",
    "    ax.legend(loc='best', fontsize='medium') #bbox_to_anchor=(1.02, 0.5),\n",
    "    ax.set_xlabel(wc, fontsize = 'large')\n",
    "    ax.set_ylabel(r\"$\\sigma_{SMEFT} /\\ \\sigma_{SM}$\", fontsize='large')\n",
    "    # ax.set_xlim([-6.0, 6.0])\n",
    "    fig.show()\n",
    "    \n",
    "    figname = f\"2025-05-22_quad1d_{wc}.png\"\n",
    "    fig.savefig(os.path.join(savedir,figname)) #bbox_inches='tight'\n",
    "    print(f\"saving plot to {os.path.join(savedir, figname)}\")\n",
    "    plt.close(fig)"
   ]
  },
  {
   "cell_type": "markdown",
   "id": "80d361c3-5ca3-47bf-bf67-26c58594c40d",
   "metadata": {},
   "source": [
    "# Checks with LHE_mmnl cut"
   ]
  },
  {
   "cell_type": "code",
   "execution_count": 15,
   "id": "67dcacb9-3c24-4607-962c-ab0949ae8a41",
   "metadata": {},
   "outputs": [],
   "source": [
    "tWLO_stpt1_LHEmmnl_sow = utils.get_hist_from_pkl(\"/users/hnelson2/afs/ttbarEFT/analysis/mc_validation/tWLO_stpt1_LHEmmnl_sow.pkl.gz\", allow_empty=False)\n",
    "tWLO_stpt2_LHEmmnl_sow = utils.get_hist_from_pkl(\"/users/hnelson2/afs/ttbarEFT/analysis/mc_validation/tWLO_stpt2_LHEmmnl_sow.pkl.gz\", allow_empty=False)"
   ]
  },
  {
   "cell_type": "code",
   "execution_count": 16,
   "id": "ec65da19-53e7-461c-844b-7cd0c28cf7bc",
   "metadata": {},
   "outputs": [
    {
     "data": {
      "text/plain": [
       "{'sow': HistEFT(\n",
       "   StrCategory(['TTto2l2Nu_stpt1'], growth=True, name='process'),\n",
       "   Regular(1, 0, 2, name='sow', label='sum of weights for all events'),\n",
       "   Integer(0, 136, name='quadratic_term'),\n",
       "   storage=Double()) # Sum: 1.0,\n",
       " 'sow_norm': HistEFT(\n",
       "   StrCategory(['TTto2l2Nu_stpt1'], growth=True, name='process'),\n",
       "   Regular(1, 0, 2, name='sow_norm', label='normalized sum of weights for all events'),\n",
       "   Integer(0, 136, name='quadratic_term'),\n",
       "   storage=Double()) # Sum: 1.0,\n",
       " 'lhe_mmnl': HistEFT(\n",
       "   StrCategory(['TTto2l2Nu_stpt1'], growth=True, name='process'),\n",
       "   Regular(20, 0, 200, name='lhe_mmnl', label='LHE invariant mass of initial leptons[GeV]'),\n",
       "   Integer(0, 136, name='quadratic_term'),\n",
       "   storage=Double()) # Sum: 1.0,\n",
       " 'lhe_mmnl_100': HistEFT(\n",
       "   StrCategory(['TTto2l2Nu_stpt1'], growth=True, name='process'),\n",
       "   Regular(20, 0, 200, name='lhe_mmnl_100', label='LHE invariant mass of initial leptons[GeV]'),\n",
       "   Integer(0, 136, name='quadratic_term'),\n",
       "   storage=Double()) # Sum: 1.0,\n",
       " 'sow_mmnl_100': HistEFT(\n",
       "   StrCategory(['TTto2l2Nu_stpt1'], growth=True, name='process'),\n",
       "   Regular(1, 0, 2, name='sow_mmnl_100', label='sum of weights for events mmnl>100'),\n",
       "   Integer(0, 136, name='quadratic_term'),\n",
       "   storage=Double()) # Sum: 1.0}"
      ]
     },
     "execution_count": 16,
     "metadata": {},
     "output_type": "execute_result"
    }
   ],
   "source": [
    "tWLO_stpt1_LHEmmnl_sow"
   ]
  },
  {
   "cell_type": "code",
   "execution_count": 17,
   "id": "8f847b7d-88c1-418f-83d1-ff193170b16a",
   "metadata": {},
   "outputs": [
    {
     "data": {
      "text/plain": [
       "(0.0, 250.0)"
      ]
     },
     "execution_count": 17,
     "metadata": {},
     "output_type": "execute_result"
    },
    {
     "data": {
      "image/png": "[encoded data removed]",
      "text/plain": [
       "<Figure size 1000x1000 with 1 Axes>"
      ]
     },
     "metadata": {},
     "output_type": "display_data"
    }
   ],
   "source": [
    "lhe_mmnl = tWLO_stpt1_LHEmmnl_sow['lhe_mmnl_100'].as_hist({})\n",
    "\n",
    "\n",
    "fig, ax = plt.subplots()\n",
    "lhe_mmnl.plot1d(ax=ax, stack=False, yerr=False, linewidth=2, label=\"tWLO_stpt1\")\n",
    "\n",
    "## Formatting\n",
    "ax.legend(loc = 'upper right', fontsize = 'medium')\n",
    "ax.set_ylabel(\"Events\", fontsize='medium')\n",
    "plt.figtext(0.13, 0.9, \"Reweighted to SM\", fontsize='small')\n",
    "ax.set_xlim([0, 250])\n",
    "\n",
    "# plt.close(fig)"
   ]
  },
  {
   "cell_type": "code",
   "execution_count": null,
   "id": "7c8e7ca5-136e-498e-80dd-d19a557107e5",
   "metadata": {},
   "outputs": [],
   "source": []
  }
 ],
 "metadata": {
  "kernelspec": {
   "display_name": "ttbarEFT",
   "language": "python",
   "name": "ttbareft"
  },
  "language_info": {
   "codemirror_mode": {
    "name": "ipython",
    "version": 3
   },
   "file_extension": ".py",
   "mimetype": "text/x-python",
   "name": "python",
   "nbconvert_exporter": "python",
   "pygments_lexer": "ipython3",
   "version": "3.10.15"
  },
  "toc-autonumbering": false,
  "toc-showcode": false,
  "toc-showmarkdowntxt": false,
  "toc-showtags": false
 },
 "nbformat": 4,
 "nbformat_minor": 5
}
